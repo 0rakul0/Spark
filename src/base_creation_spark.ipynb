{
 "cells": [
  {
   "cell_type": "code",
   "execution_count": 3,
   "metadata": {
    "pycharm": {
     "is_executing": true,
     "name": "#%%\n"
    }
   },
   "outputs": [],
   "source": [
    "from pyspark.sql.functions import max, desc, asc, expr"
   ]
  },
  {
   "cell_type": "code",
   "execution_count": null,
   "outputs": [],
   "source": [
    "!pip install pyspark"
   ],
   "metadata": {
    "collapsed": false,
    "pycharm": {
     "name": "#%%\n"
    }
   }
  },
  {
   "cell_type": "code",
   "execution_count": 4,
   "metadata": {
    "application/vnd.databricks.v1+cell": {
     "inputWidgets": {},
     "nuid": "350756f5-5269-4fce-991a-77cdc59b3fb6",
     "showTitle": false,
     "title": ""
    },
    "pycharm": {
     "name": "#%%\n"
    }
   },
   "outputs": [
    {
     "ename": "NameError",
     "evalue": "name 'dbutils' is not defined",
     "output_type": "error",
     "traceback": [
      "\u001B[1;31m---------------------------------------------------------------------------\u001B[0m",
      "\u001B[1;31mNameError\u001B[0m                                 Traceback (most recent call last)",
      "Input \u001B[1;32mIn [4]\u001B[0m, in \u001B[0;36m<cell line: 2>\u001B[1;34m()\u001B[0m\n\u001B[0;32m      1\u001B[0m \u001B[38;5;66;03m#usando dataframe do spark\u001B[39;00m\n\u001B[1;32m----> 2\u001B[0m display(\u001B[43mdbutils\u001B[49m\u001B[38;5;241m.\u001B[39mfs\u001B[38;5;241m.\u001B[39mls(\u001B[38;5;124m\"\u001B[39m\u001B[38;5;124m/databricks-datasets\u001B[39m\u001B[38;5;124m\"\u001B[39m))\n",
      "\u001B[1;31mNameError\u001B[0m: name 'dbutils' is not defined"
     ]
    }
   ],
   "source": [
    "#usando dataframe do spark\n",
    "display(dbutils.fs.ls(\"/databricks-datasets\"))"
   ]
  },
  {
   "cell_type": "code",
   "execution_count": 0,
   "metadata": {
    "application/vnd.databricks.v1+cell": {
     "inputWidgets": {},
     "nuid": "e3b95010-2ccc-427b-a0ff-d679076324ba",
     "showTitle": false,
     "title": ""
    },
    "pycharm": {
     "name": "#%%\n"
    }
   },
   "outputs": [],
   "source": [
    "arquivo = \"dbfs:/databricks-datasets/flights/\""
   ]
  },
  {
   "cell_type": "code",
   "execution_count": 0,
   "metadata": {
    "application/vnd.databricks.v1+cell": {
     "inputWidgets": {},
     "nuid": "77c7422d-cfaf-4563-b480-c77e549d1e24",
     "showTitle": false,
     "title": ""
    },
    "pycharm": {
     "name": "#%%\n"
    }
   },
   "outputs": [],
   "source": [
    "df = spark.read.format(\"csv\").option(\"inferSchema\", \"True\").option(\"header\", \"True\").csv(arquivo)"
   ]
  },
  {
   "cell_type": "code",
   "execution_count": 0,
   "metadata": {
    "application/vnd.databricks.v1+cell": {
     "inputWidgets": {},
     "nuid": "93c8c753-f4cf-4605-87a7-b444359e6bb7",
     "showTitle": false,
     "title": ""
    },
    "pycharm": {
     "name": "#%%\n"
    }
   },
   "outputs": [
    {
     "data": {
      "text/plain": [
       "root\n",
       " |-- date: string (nullable = true)\n",
       " |-- delay: string (nullable = true)\n",
       " |-- distance: string (nullable = true)\n",
       " |-- origin: string (nullable = true)\n",
       " |-- destination: string (nullable = true)\n",
       "\n"
      ]
     },
     "metadata": {
      "application/vnd.databricks.v1+output": {
       "addedWidgets": {},
       "arguments": {},
       "data": "root\n |-- date: string (nullable = true)\n |-- delay: string (nullable = true)\n |-- distance: string (nullable = true)\n |-- origin: string (nullable = true)\n |-- destination: string (nullable = true)\n\n",
       "datasetInfos": [],
       "metadata": {},
       "removedWidgets": [],
       "type": "ansi"
      }
     },
     "output_type": "display_data"
    }
   ],
   "source": [
    "df.printSchema()"
   ]
  },
  {
   "cell_type": "code",
   "execution_count": 0,
   "metadata": {
    "application/vnd.databricks.v1+cell": {
     "inputWidgets": {},
     "nuid": "bb80d478-071d-4a1c-a8f8-127c8e3d8d66",
     "showTitle": false,
     "title": ""
    },
    "pycharm": {
     "name": "#%%\n"
    }
   },
   "outputs": [
    {
     "data": {
      "text/plain": [
       "Out[7]: pyspark.sql.dataframe.DataFrame"
      ]
     },
     "metadata": {
      "application/vnd.databricks.v1+output": {
       "addedWidgets": {},
       "arguments": {},
       "data": "Out[7]: pyspark.sql.dataframe.DataFrame",
       "datasetInfos": [],
       "metadata": {},
       "removedWidgets": [],
       "type": "ansi"
      }
     },
     "output_type": "display_data"
    }
   ],
   "source": [
    "type(df)"
   ]
  },
  {
   "cell_type": "code",
   "execution_count": 0,
   "metadata": {
    "application/vnd.databricks.v1+cell": {
     "inputWidgets": {},
     "nuid": "a040876b-5c98-4919-8202-5e97a2c7ba4d",
     "showTitle": false,
     "title": ""
    },
    "pycharm": {
     "name": "#%%\n"
    }
   },
   "outputs": [
    {
     "data": {
      "text/plain": [
       "Out[8]: [Row(date='01011245', delay='6', distance='602', origin='ABE', destination='ATL'),\n",
       " Row(date='01020600', delay='-8', distance='369', origin='ABE', destination='DTW'),\n",
       " Row(date='01021245', delay='-2', distance='602', origin='ABE', destination='ATL'),\n",
       " Row(date='01020605', delay='-4', distance='602', origin='ABE', destination='ATL'),\n",
       " Row(date='01031245', delay='-4', distance='602', origin='ABE', destination='ATL'),\n",
       " Row(date='01030605', delay='0', distance='602', origin='ABE', destination='ATL'),\n",
       " Row(date='01041243', delay='10', distance='602', origin='ABE', destination='ATL')]"
      ]
     },
     "metadata": {
      "application/vnd.databricks.v1+output": {
       "addedWidgets": {},
       "arguments": {},
       "data": "Out[8]: [Row(date='01011245', delay='6', distance='602', origin='ABE', destination='ATL'),\n Row(date='01020600', delay='-8', distance='369', origin='ABE', destination='DTW'),\n Row(date='01021245', delay='-2', distance='602', origin='ABE', destination='ATL'),\n Row(date='01020605', delay='-4', distance='602', origin='ABE', destination='ATL'),\n Row(date='01031245', delay='-4', distance='602', origin='ABE', destination='ATL'),\n Row(date='01030605', delay='0', distance='602', origin='ABE', destination='ATL'),\n Row(date='01041243', delay='10', distance='602', origin='ABE', destination='ATL')]",
       "datasetInfos": [],
       "metadata": {},
       "removedWidgets": [],
       "type": "ansi"
      }
     },
     "output_type": "display_data"
    }
   ],
   "source": [
    "df.take(7)"
   ]
  },
  {
   "cell_type": "code",
   "execution_count": 0,
   "metadata": {
    "application/vnd.databricks.v1+cell": {
     "inputWidgets": {},
     "nuid": "2c84e735-655f-4ffe-8a3d-481c1ef019be",
     "showTitle": false,
     "title": ""
    },
    "pycharm": {
     "name": "#%%\n"
    }
   },
   "outputs": [
    {
     "data": {
      "text/plain": [
       "+--------+-----+--------+------+-----------+\n",
       "|    date|delay|distance|origin|destination|\n",
       "+--------+-----+--------+------+-----------+\n",
       "|01011245|    6|     602|   ABE|        ATL|\n",
       "|01020600|   -8|     369|   ABE|        DTW|\n",
       "|01021245|   -2|     602|   ABE|        ATL|\n",
       "|01020605|   -4|     602|   ABE|        ATL|\n",
       "|01031245|   -4|     602|   ABE|        ATL|\n",
       "|01030605|    0|     602|   ABE|        ATL|\n",
       "|01041243|   10|     602|   ABE|        ATL|\n",
       "+--------+-----+--------+------+-----------+\n",
       "only showing top 7 rows\n",
       "\n"
      ]
     },
     "metadata": {
      "application/vnd.databricks.v1+output": {
       "addedWidgets": {},
       "arguments": {},
       "data": "+--------+-----+--------+------+-----------+\n|    date|delay|distance|origin|destination|\n+--------+-----+--------+------+-----------+\n|01011245|    6|     602|   ABE|        ATL|\n|01020600|   -8|     369|   ABE|        DTW|\n|01021245|   -2|     602|   ABE|        ATL|\n|01020605|   -4|     602|   ABE|        ATL|\n|01031245|   -4|     602|   ABE|        ATL|\n|01030605|    0|     602|   ABE|        ATL|\n|01041243|   10|     602|   ABE|        ATL|\n+--------+-----+--------+------+-----------+\nonly showing top 7 rows\n\n",
       "datasetInfos": [],
       "metadata": {},
       "removedWidgets": [],
       "type": "ansi"
      }
     },
     "output_type": "display_data"
    }
   ],
   "source": [
    "display(df.show(7))"
   ]
  },
  {
   "cell_type": "code",
   "execution_count": 0,
   "metadata": {
    "application/vnd.databricks.v1+cell": {
     "inputWidgets": {},
     "nuid": "2ba31eba-3f6f-49f9-a94e-9c26b0565520",
     "showTitle": false,
     "title": ""
    },
    "pycharm": {
     "name": "#%%\n"
    }
   },
   "outputs": [],
   "source": [
    "from pyspark.sql.functions import max, desc, asc, expr"
   ]
  },
  {
   "cell_type": "code",
   "execution_count": 0,
   "metadata": {
    "application/vnd.databricks.v1+cell": {
     "inputWidgets": {},
     "nuid": "9f74df90-b30c-4c9e-9148-9ba4cfa332b3",
     "showTitle": false,
     "title": ""
    },
    "pycharm": {
     "name": "#%%\n"
    }
   },
   "outputs": [
    {
     "data": {
      "text/plain": [
       "Out[14]: [Row(max(delay)='995')]"
      ]
     },
     "metadata": {
      "application/vnd.databricks.v1+output": {
       "addedWidgets": {},
       "arguments": {},
       "data": "Out[14]: [Row(max(delay)='995')]",
       "datasetInfos": [],
       "metadata": {},
       "removedWidgets": [],
       "type": "ansi"
      }
     },
     "output_type": "display_data"
    }
   ],
   "source": [
    "df.select(max(\"delay\")).take(1)"
   ]
  },
  {
   "cell_type": "code",
   "execution_count": 0,
   "metadata": {
    "application/vnd.databricks.v1+cell": {
     "inputWidgets": {},
     "nuid": "b297eb5d-ebbf-48b2-b492-e97a4979f9d2",
     "showTitle": false,
     "title": ""
    },
    "pycharm": {
     "name": "#%%\n"
    }
   },
   "outputs": [
    {
     "data": {
      "text/plain": [
       "+--------+-----+--------+------+-----------+\n",
       "|    date|delay|distance|origin|destination|\n",
       "+--------+-----+--------+------+-----------+\n",
       "|01020600|   -8|     369|   ABE|        DTW|\n",
       "|01021245|   -2|     602|   ABE|        ATL|\n",
       "|01020605|   -4|     602|   ABE|        ATL|\n",
       "|01031245|   -4|     602|   ABE|        ATL|\n",
       "|01030605|    0|     602|   ABE|        ATL|\n",
       "+--------+-----+--------+------+-----------+\n",
       "only showing top 5 rows\n",
       "\n"
      ]
     },
     "metadata": {
      "application/vnd.databricks.v1+output": {
       "addedWidgets": {},
       "arguments": {},
       "data": "+--------+-----+--------+------+-----------+\n|    date|delay|distance|origin|destination|\n+--------+-----+--------+------+-----------+\n|01020600|   -8|     369|   ABE|        DTW|\n|01021245|   -2|     602|   ABE|        ATL|\n|01020605|   -4|     602|   ABE|        ATL|\n|01031245|   -4|     602|   ABE|        ATL|\n|01030605|    0|     602|   ABE|        ATL|\n+--------+-----+--------+------+-----------+\nonly showing top 5 rows\n\n",
       "datasetInfos": [],
       "metadata": {},
       "removedWidgets": [],
       "type": "ansi"
      }
     },
     "output_type": "display_data"
    }
   ],
   "source": [
    "df.filter(\"delay < 2\").show(5)"
   ]
  },
  {
   "cell_type": "code",
   "execution_count": 0,
   "metadata": {
    "application/vnd.databricks.v1+cell": {
     "inputWidgets": {},
     "nuid": "b1677537-b5b8-4a85-b2ba-61a2bb511b80",
     "showTitle": false,
     "title": ""
    },
    "pycharm": {
     "name": "#%%\n"
    }
   },
   "outputs": [
    {
     "data": {
      "text/plain": [
       "+--------+-----+--------+------+-----------+\n",
       "|    date|delay|distance|origin|destination|\n",
       "+--------+-----+--------+------+-----------+\n",
       "|01020600|   -8|     369|   ABE|        DTW|\n",
       "|01021245|   -2|     602|   ABE|        ATL|\n",
       "|01020605|   -4|     602|   ABE|        ATL|\n",
       "|01031245|   -4|     602|   ABE|        ATL|\n",
       "|01030605|    0|     602|   ABE|        ATL|\n",
       "+--------+-----+--------+------+-----------+\n",
       "only showing top 5 rows\n",
       "\n"
      ]
     },
     "metadata": {
      "application/vnd.databricks.v1+output": {
       "addedWidgets": {},
       "arguments": {},
       "data": "+--------+-----+--------+------+-----------+\n|    date|delay|distance|origin|destination|\n+--------+-----+--------+------+-----------+\n|01020600|   -8|     369|   ABE|        DTW|\n|01021245|   -2|     602|   ABE|        ATL|\n|01020605|   -4|     602|   ABE|        ATL|\n|01031245|   -4|     602|   ABE|        ATL|\n|01030605|    0|     602|   ABE|        ATL|\n+--------+-----+--------+------+-----------+\nonly showing top 5 rows\n\n",
       "datasetInfos": [],
       "metadata": {},
       "removedWidgets": [],
       "type": "ansi"
      }
     },
     "output_type": "display_data"
    }
   ],
   "source": [
    "df.where(\"delay < 2\").show(5)"
   ]
  },
  {
   "cell_type": "code",
   "execution_count": 0,
   "metadata": {
    "application/vnd.databricks.v1+cell": {
     "inputWidgets": {},
     "nuid": "41188764-51ef-4455-989d-09dcdef12668",
     "showTitle": false,
     "title": ""
    },
    "pycharm": {
     "name": "#%%\n"
    }
   },
   "outputs": [
    {
     "data": {
      "text/plain": [
       "+--------------------+-----+--------+------+-----------+\n",
       "|                date|delay|distance|origin|destination|\n",
       "+--------------------+-----+--------+------+-----------+\n",
       "|Abbotsford\\tBC\\tC...| null|    null|  null|       null|\n",
       "|Aberdeen\\tSD\\tUSA...| null|    null|  null|       null|\n",
       "|Abilene\\tTX\\tUSA\\...| null|    null|  null|       null|\n",
       "| Akron\\tOH\\tUSA\\tCAK| null|    null|  null|       null|\n",
       "|Alamosa\\tCO\\tUSA\\...| null|    null|  null|       null|\n",
       "|Albany\\tGA\\tUSA\\tABY| null|    null|  null|       null|\n",
       "|Albany\\tNY\\tUSA\\tALB| null|    null|  null|       null|\n",
       "|Albuquerque\\tNM\\t...| null|    null|  null|       null|\n",
       "|Alexandria\\tLA\\tU...| null|    null|  null|       null|\n",
       "|Allentown\\tPA\\tUS...| null|    null|  null|       null|\n",
       "+--------------------+-----+--------+------+-----------+\n",
       "only showing top 10 rows\n",
       "\n"
      ]
     },
     "metadata": {
      "application/vnd.databricks.v1+output": {
       "addedWidgets": {},
       "arguments": {},
       "data": "+--------------------+-----+--------+------+-----------+\n|                date|delay|distance|origin|destination|\n+--------------------+-----+--------+------+-----------+\n|Abbotsford\\tBC\\tC...| null|    null|  null|       null|\n|Aberdeen\\tSD\\tUSA...| null|    null|  null|       null|\n|Abilene\\tTX\\tUSA\\...| null|    null|  null|       null|\n| Akron\\tOH\\tUSA\\tCAK| null|    null|  null|       null|\n|Alamosa\\tCO\\tUSA\\...| null|    null|  null|       null|\n|Albany\\tGA\\tUSA\\tABY| null|    null|  null|       null|\n|Albany\\tNY\\tUSA\\tALB| null|    null|  null|       null|\n|Albuquerque\\tNM\\t...| null|    null|  null|       null|\n|Alexandria\\tLA\\tU...| null|    null|  null|       null|\n|Allentown\\tPA\\tUS...| null|    null|  null|       null|\n+--------------------+-----+--------+------+-----------+\nonly showing top 10 rows\n\n",
       "datasetInfos": [],
       "metadata": {},
       "removedWidgets": [],
       "type": "ansi"
      }
     },
     "output_type": "display_data"
    }
   ],
   "source": [
    "df.orderBy(expr(\"delay desc\")).show(10)"
   ]
  },
  {
   "cell_type": "code",
   "execution_count": 0,
   "metadata": {
    "application/vnd.databricks.v1+cell": {
     "inputWidgets": {},
     "nuid": "616d23d2-2245-4679-9238-2913aa4d60fd",
     "showTitle": false,
     "title": ""
    },
    "pycharm": {
     "name": "#%%\n"
    }
   },
   "outputs": [
    {
     "data": {
      "text/plain": [
       "+-------+--------------------+--------------------+--------------------+-------+-----------+\n",
       "|summary|                date|               delay|            distance| origin|destination|\n",
       "+-------+--------------------+--------------------+--------------------+-------+-----------+\n",
       "|  count|             1392106|             1391580|             1391579|1391578|    1391578|\n",
       "|   mean|   2180446.584000322|  12.079802928761449|   690.5508264718184|   null|       null|\n",
       "| stddev|   838031.1536741031|   38.80773374985648|    513.662815366331|   null|       null|\n",
       "|    min|\"Cap-aux-Meules, ...| airline and rout...| dataset can be f...|    ABE|        ABE|\n",
       "|    max|  Yuma\\tAZ\\tUSA\\tYUM|                 995|                 999|    YUM|        YUM|\n",
       "+-------+--------------------+--------------------+--------------------+-------+-----------+\n",
       "\n"
      ]
     },
     "metadata": {
      "application/vnd.databricks.v1+output": {
       "addedWidgets": {},
       "arguments": {},
       "data": "+-------+--------------------+--------------------+--------------------+-------+-----------+\n|summary|                date|               delay|            distance| origin|destination|\n+-------+--------------------+--------------------+--------------------+-------+-----------+\n|  count|             1392106|             1391580|             1391579|1391578|    1391578|\n|   mean|   2180446.584000322|  12.079802928761449|   690.5508264718184|   null|       null|\n| stddev|   838031.1536741031|   38.80773374985648|    513.662815366331|   null|       null|\n|    min|\"Cap-aux-Meules, ...| airline and rout...| dataset can be f...|    ABE|        ABE|\n|    max|  Yuma\\tAZ\\tUSA\\tYUM|                 995|                 999|    YUM|        YUM|\n+-------+--------------------+--------------------+--------------------+-------+-----------+\n\n",
       "datasetInfos": [],
       "metadata": {},
       "removedWidgets": [],
       "type": "ansi"
      }
     },
     "output_type": "display_data"
    }
   ],
   "source": [
    "df.describe().show()"
   ]
  },
  {
   "cell_type": "code",
   "execution_count": 0,
   "metadata": {
    "application/vnd.databricks.v1+cell": {
     "inputWidgets": {},
     "nuid": "a46fb4c2-13ee-4362-8e6c-3a3c08466539",
     "showTitle": false,
     "title": ""
    },
    "pycharm": {
     "name": "#%%\n"
    }
   },
   "outputs": [
    {
     "data": {
      "text/plain": [
       "Row(date='01011245', delay='6', distance='602', origin='ABE', destination='ATL')\n",
       "Row(date='01020600', delay='-8', distance='369', origin='ABE', destination='DTW')\n",
       "Row(date='01021245', delay='-2', distance='602', origin='ABE', destination='ATL')\n",
       "Row(date='01020605', delay='-4', distance='602', origin='ABE', destination='ATL')\n",
       "Row(date='01031245', delay='-4', distance='602', origin='ABE', destination='ATL')\n",
       "Row(date='01030605', delay='0', distance='602', origin='ABE', destination='ATL')\n",
       "Row(date='01041243', delay='10', distance='602', origin='ABE', destination='ATL')\n",
       "Row(date='01040605', delay='28', distance='602', origin='ABE', destination='ATL')\n",
       "Row(date='01051245', delay='88', distance='602', origin='ABE', destination='ATL')\n",
       "Row(date='01050605', delay='9', distance='602', origin='ABE', destination='ATL')\n",
       "Row(date='01061215', delay='-6', distance='602', origin='ABE', destination='ATL')\n",
       "Row(date='01061725', delay='69', distance='602', origin='ABE', destination='ATL')\n",
       "Row(date='01061230', delay='0', distance='369', origin='ABE', destination='DTW')\n",
       "Row(date='01060625', delay='-3', distance='602', origin='ABE', destination='ATL')\n",
       "Row(date='01070600', delay='0', distance='369', origin='ABE', destination='DTW')\n",
       "Row(date='01071725', delay='0', distance='602', origin='ABE', destination='ATL')\n",
       "Row(date='01071230', delay='0', distance='369', origin='ABE', destination='DTW')\n",
       "Row(date='01070625', delay='0', distance='602', origin='ABE', destination='ATL')\n",
       "Row(date='01071219', delay='0', distance='569', origin='ABE', destination='ORD')\n",
       "Row(date='01080600', delay='0', distance='369', origin='ABE', destination='DTW')\n",
       "Row(date='01081230', delay='33', distance='369', origin='ABE', destination='DTW')\n",
       "Row(date='01080625', delay='1', distance='602', origin='ABE', destination='ATL')\n",
       "Row(date='01080607', delay='5', distance='569', origin='ABE', destination='ORD')\n",
       "Row(date='01081219', delay='54', distance='569', origin='ABE', destination='ORD')\n",
       "Row(date='01091215', delay='43', distance='602', origin='ABE', destination='ATL')\n",
       "Row(date='01090600', delay='151', distance='369', origin='ABE', destination='DTW')\n",
       "Row(date='01091725', delay='0', distance='602', origin='ABE', destination='ATL')\n",
       "Row(date='01091230', delay='-4', distance='369', origin='ABE', destination='DTW')\n",
       "Row(date='01090625', delay='8', distance='602', origin='ABE', destination='ATL')\n",
       "Row(date='01091219', delay='83', distance='569', origin='ABE', destination='ORD')\n",
       "Row(date='01101215', delay='-5', distance='602', origin='ABE', destination='ATL')\n",
       "Row(date='01100600', delay='-5', distance='369', origin='ABE', destination='DTW')\n",
       "Row(date='01101725', delay='7', distance='602', origin='ABE', destination='ATL')\n",
       "Row(date='01101230', delay='-8', distance='369', origin='ABE', destination='DTW')\n",
       "Row(date='01100625', delay='52', distance='602', origin='ABE', destination='ATL')\n",
       "Row(date='01101219', delay='0', distance='569', origin='ABE', destination='ORD')\n",
       "Row(date='01111215', delay='127', distance='602', origin='ABE', destination='ATL')\n",
       "Row(date='01110600', delay='-9', distance='369', origin='ABE', destination='DTW')\n",
       "Row(date='01110625', delay='-4', distance='602', origin='ABE', destination='ATL')\n",
       "Row(date='01121215', delay='-5', distance='602', origin='ABE', destination='ATL')\n",
       "Row(date='01121725', delay='-1', distance='602', origin='ABE', destination='ATL')\n",
       "Row(date='01131215', delay='14', distance='602', origin='ABE', destination='ATL')\n",
       "Row(date='01130600', delay='-7', distance='369', origin='ABE', destination='DTW')\n",
       "Row(date='01131725', delay='-6', distance='602', origin='ABE', destination='ATL')\n",
       "Row(date='01131230', delay='-13', distance='369', origin='ABE', destination='DTW')\n",
       "Row(date='01130625', delay='29', distance='602', origin='ABE', destination='ATL')\n",
       "Row(date='01131219', delay='-8', distance='569', origin='ABE', destination='ORD')\n",
       "Row(date='01140600', delay='-9', distance='369', origin='ABE', destination='DTW')\n",
       "Row(date='01141725', delay='-9', distance='602', origin='ABE', destination='ATL')\n",
       "Row(date='01141230', delay='-8', distance='369', origin='ABE', destination='DTW')\n",
       "Row(date='01140625', delay='-5', distance='602', origin='ABE', destination='ATL')\n",
       "Row(date='01141219', delay='-10', distance='569', origin='ABE', destination='ORD')\n",
       "Row(date='01150600', delay='0', distance='369', origin='ABE', destination='DTW')\n",
       "Row(date='01151725', delay='-6', distance='602', origin='ABE', destination='ATL')\n",
       "Row(date='01151230', delay='0', distance='369', origin='ABE', destination='DTW')\n",
       "Row(date='01150625', delay='0', distance='602', origin='ABE', destination='ATL')\n",
       "Row(date='01150607', delay='0', distance='569', origin='ABE', destination='ORD')\n",
       "Row(date='01151219', delay='0', distance='569', origin='ABE', destination='ORD')\n",
       "Row(date='01161215', delay='-10', distance='602', origin='ABE', destination='ATL')\n",
       "Row(date='01160600', delay='-1', distance='369', origin='ABE', destination='DTW')\n",
       "Row(date='01161725', delay='-6', distance='602', origin='ABE', destination='ATL')\n",
       "Row(date='01161230', delay='-7', distance='369', origin='ABE', destination='DTW')\n",
       "Row(date='01160625', delay='-4', distance='602', origin='ABE', destination='ATL')\n",
       "Row(date='01161219', delay='68', distance='569', origin='ABE', destination='ORD')\n",
       "Row(date='01171215', delay='-8', distance='602', origin='ABE', destination='ATL')\n",
       "Row(date='01170600', delay='-5', distance='369', origin='ABE', destination='DTW')\n",
       "Row(date='01171725', delay='5', distance='602', origin='ABE', destination='ATL')\n",
       "Row(date='01171230', delay='-10', distance='369', origin='ABE', destination='DTW')\n",
       "Row(date='01170625', delay='-6', distance='602', origin='ABE', destination='ATL')\n",
       "Row(date='01171219', delay='-10', distance='569', origin='ABE', destination='ORD')\n",
       "Row(date='01181215', delay='-12', distance='602', origin='ABE', destination='ATL')\n",
       "Row(date='01180600', delay='-13', distance='369', origin='ABE', destination='DTW')\n",
       "Row(date='01180625', delay='0', distance='602', origin='ABE', destination='ATL')\n",
       "Row(date='01191215', delay='-16', distance='602', origin='ABE', destination='ATL')\n",
       "Row(date='01191725', delay='-5', distance='602', origin='ABE', destination='ATL')\n",
       "Row(date='01201215', delay='-8', distance='602', origin='ABE', destination='ATL')\n",
       "Row(date='01201725', delay='-5', distance='602', origin='ABE', destination='ATL')\n",
       "Row(date='01201230', delay='-11', distance='369', origin='ABE', destination='DTW')\n",
       "Row(date='01200625', delay='-7', distance='602', origin='ABE', destination='ATL')\n",
       "Row(date='01201219', delay='-6', distance='569', origin='ABE', destination='ORD')\n",
       "Row(date='01210600', delay='89', distance='369', origin='ABE', destination='DTW')\n",
       "Row(date='01211725', delay='0', distance='602', origin='ABE', destination='ATL')\n",
       "Row(date='01211230', delay='44', distance='369', origin='ABE', destination='DTW')\n",
       "Row(date='01210625', delay='-6', distance='602', origin='ABE', destination='ATL')\n",
       "Row(date='01211219', delay='9', distance='569', origin='ABE', destination='ORD')\n",
       "Row(date='01220600', delay='80', distance='369', origin='ABE', destination='DTW')\n",
       "Row(date='01221230', delay='-5', distance='369', origin='ABE', destination='DTW')\n",
       "Row(date='01220625', delay='333', distance='602', origin='ABE', destination='ATL')\n",
       "Row(date='01220607', delay='219', distance='569', origin='ABE', destination='ORD')\n",
       "Row(date='01221219', delay='15', distance='569', origin='ABE', destination='ORD')\n",
       "Row(date='01231215', delay='-12', distance='602', origin='ABE', destination='ATL')\n",
       "Row(date='01230600', delay='-3', distance='369', origin='ABE', destination='DTW')\n",
       "Row(date='01231725', delay='180', distance='602', origin='ABE', destination='ATL')\n",
       "Row(date='01231230', delay='-5', distance='369', origin='ABE', destination='DTW')\n",
       "Row(date='01230625', delay='-8', distance='602', origin='ABE', destination='ATL')\n",
       "Row(date='01231219', delay='-13', distance='569', origin='ABE', destination='ORD')\n",
       "Row(date='01241215', delay='-11', distance='602', origin='ABE', destination='ATL')\n",
       "Row(date='01240600', delay='-3', distance='369', origin='ABE', destination='DTW')\n",
       "Row(date='01241725', delay='2', distance='602', origin='ABE', destination='ATL')\n",
       "Row(date='01241230', delay='-5', distance='369', origin='ABE', destination='DTW')\n",
       "Row(date='01240625', delay='-3', distance='602', origin='ABE', destination='ATL')\n",
       "Row(date='01241219', delay='0', distance='569', origin='ABE', destination='ORD')\n",
       "Row(date='01251215', delay='2', distance='602', origin='ABE', destination='ATL')\n",
       "Row(date='01250600', delay='-4', distance='369', origin='ABE', destination='DTW')\n",
       "Row(date='01250625', delay='-4', distance='602', origin='ABE', destination='ATL')\n",
       "Row(date='01261215', delay='1', distance='602', origin='ABE', destination='ATL')\n",
       "Row(date='01261725', delay='7', distance='602', origin='ABE', destination='ATL')\n",
       "Row(date='01271215', delay='-4', distance='602', origin='ABE', destination='ATL')\n",
       "Row(date='01270600', delay='-9', distance='369', origin='ABE', destination='DTW')\n",
       "Row(date='01271725', delay='-8', distance='602', origin='ABE', destination='ATL')\n",
       "Row(date='01271230', delay='-7', distance='369', origin='ABE', destination='DTW')\n",
       "Row(date='01270625', delay='-1', distance='602', origin='ABE', destination='ATL')\n",
       "Row(date='01271219', delay='0', distance='569', origin='ABE', destination='ORD')\n",
       "Row(date='01280600', delay='-6', distance='369', origin='ABE', destination='DTW')\n",
       "Row(date='01281725', delay='-3', distance='602', origin='ABE', destination='ATL')\n",
       "Row(date='01281230', delay='-8', distance='369', origin='ABE', destination='DTW')\n",
       "Row(date='01280625', delay='-4', distance='602', origin='ABE', destination='ATL')\n",
       "Row(date='01281219', delay='0', distance='569', origin='ABE', destination='ORD')\n",
       "Row(date='01290600', delay='0', distance='369', origin='ABE', destination='DTW')\n",
       "Row(date='01291230', delay='0', distance='369', origin='ABE', destination='DTW')\n",
       "Row(date='01290625', delay='4', distance='602', origin='ABE', destination='ATL')\n",
       "Row(date='01290607', delay='92', distance='569', origin='ABE', destination='ORD')\n",
       "Row(date='01291219', delay='-10', distance='569', origin='ABE', destination='ORD')\n",
       "Row(date='01301215', delay='0', distance='602', origin='ABE', destination='ATL')\n",
       "Row(date='01300600', delay='-1', distance='369', origin='ABE', destination='DTW')\n",
       "Row(date='01301725', delay='10', distance='602', origin='ABE', destination='ATL')\n",
       "Row(date='01301230', delay='0', distance='369', origin='ABE', destination='DTW')\n",
       "Row(date='01300625', delay='0', distance='602', origin='ABE', destination='ATL')\n",
       "Row(date='01301219', delay='-11', distance='569', origin='ABE', destination='ORD')\n",
       "Row(date='01311215', delay='1', distance='602', origin='ABE', destination='ATL')\n",
       "Row(date='01310600', delay='-4', distance='369', origin='ABE', destination='DTW')\n",
       "Row(date='01311725', delay='25', distance='602', origin='ABE', destination='ATL')\n",
       "Row(date='01311230', delay='-4', distance='369', origin='ABE', destination='DTW')\n",
       "Row(date='01310625', delay='-5', distance='602', origin='ABE', destination='ATL')\n",
       "Row(date='01311219', delay='24', distance='569', origin='ABE', destination='ORD')\n",
       "Row(date='01011400', delay='26', distance='137', origin='ABI', destination='DFW')\n",
       "Row(date='01011525', delay='-11', distance='137', origin='ABI', destination='DFW')\n",
       "Row(date='01021400', delay='-5', distance='137', origin='ABI', destination='DFW')\n",
       "Row(date='01021525', delay='47', distance='137', origin='ABI', destination='DFW')\n",
       "Row(date='01031400', delay='-12', distance='137', origin='ABI', destination='DFW')\n",
       "Row(date='01031525', delay='40', distance='137', origin='ABI', destination='DFW')\n",
       "Row(date='01041400', delay='-12', distance='137', origin='ABI', destination='DFW')\n",
       "Row(date='01041525', delay='3', distance='137', origin='ABI', destination='DFW')\n",
       "Row(date='01051400', delay='-5', distance='137', origin='ABI', destination='DFW')\n",
       "Row(date='01051525', delay='-5', distance='137', origin='ABI', destination='DFW')\n",
       "Row(date='01061400', delay='2', distance='137', origin='ABI', destination='DFW')\n",
       "Row(date='01061525', delay='22', distance='137', origin='ABI', destination='DFW')\n",
       "Row(date='01071400', delay='-12', distance='137', origin='ABI', destination='DFW')\n",
       "Row(date='01071525', delay='-15', distance='137', origin='ABI', destination='DFW')\n",
       "Row(date='01081525', delay='21', distance='137', origin='ABI', destination='DFW')\n",
       "Row(date='01091525', delay='-8', distance='137', origin='ABI', destination='DFW')\n",
       "Row(date='01101525', delay='4', distance='137', origin='ABI', destination='DFW')\n",
       "Row(date='01111525', delay='-23', distance='137', origin='ABI', destination='DFW')\n",
       "Row(date='01121525', delay='-9', distance='137', origin='ABI', destination='DFW')\n",
       "Row(date='01131525', delay='-12', distance='137', origin='ABI', destination='DFW')\n",
       "Row(date='01141525', delay='-5', distance='137', origin='ABI', destination='DFW')\n",
       "Row(date='01151525', delay='-17', distance='137', origin='ABI', destination='DFW')\n",
       "Row(date='01161525', delay='2', distance='137', origin='ABI', destination='DFW')\n",
       "Row(date='01171525', delay='-9', distance='137', origin='ABI', destination='DFW')\n",
       "Row(date='01181525', delay='-5', distance='137', origin='ABI', destination='DFW')\n",
       "Row(date='01191525', delay='-3', distance='137', origin='ABI', destination='DFW')\n",
       "Row(date='01201525', delay='-6', distance='137', origin='ABI', destination='DFW')\n",
       "Row(date='01211525', delay='-17', distance='137', origin='ABI', destination='DFW')\n",
       "Row(date='01221525', delay='40', distance='137', origin='ABI', destination='DFW')\n",
       "Row(date='01231525', delay='-12', distance='137', origin='ABI', destination='DFW')\n",
       "Row(date='01241525', delay='21', distance='137', origin='ABI', destination='DFW')\n",
       "Row(date='01251525', delay='-6', distance='137', origin='ABI', destination='DFW')\n",
       "Row(date='01261525', delay='-12', distance='137', origin='ABI', destination='DFW')\n",
       "Row(date='01271525', delay='-13', distance='137', origin='ABI', destination='DFW')\n",
       "Row(date='01281525', delay='-10', distance='137', origin='ABI', destination='DFW')\n",
       "Row(date='01291525', delay='146', distance='137', origin='ABI', destination='DFW')\n",
       "Row(date='01301525', delay='-13', distance='137', origin='ABI', destination='DFW')\n",
       "Row(date='01311525', delay='6', distance='137', origin='ABI', destination='DFW')\n",
       "Row(date='01010925', delay='-9', distance='137', origin='ABI', destination='DFW')\n",
       "Row(date='01011730', delay='72', distance='137', origin='ABI', destination='DFW')\n",
       "Row(date='01010700', delay='-5', distance='137', origin='ABI', destination='DFW')\n",
       "Row(date='01011155', delay='-6', distance='137', origin='ABI', destination='DFW')\n",
       "Row(date='01010810', delay='62', distance='137', origin='ABI', destination='DFW')\n",
       "Row(date='01020550', delay='-7', distance='137', origin='ABI', destination='DFW')\n",
       "Row(date='01020925', delay='7', distance='137', origin='ABI', destination='DFW')\n",
       "Row(date='01021730', delay='27', distance='137', origin='ABI', destination='DFW')\n",
       "Row(date='01020700', delay='150', distance='137', origin='ABI', destination='DFW')\n",
       "Row(date='01021155', delay='0', distance='137', origin='ABI', destination='DFW')\n",
       "Row(date='01020810', delay='1', distance='137', origin='ABI', destination='DFW')\n",
       "Row(date='01030550', delay='51', distance='137', origin='ABI', destination='DFW')\n",
       "Row(date='01030925', delay='-7', distance='137', origin='ABI', destination='DFW')\n",
       "Row(date='01031730', delay='-18', distance='137', origin='ABI', destination='DFW')\n",
       "Row(date='01030700', delay='2', distance='137', origin='ABI', destination='DFW')\n",
       "Row(date='01031155', delay='48', distance='137', origin='ABI', destination='DFW')\n",
       "Row(date='01030810', delay='-3', distance='137', origin='ABI', destination='DFW')\n",
       "Row(date='01040925', delay='-7', distance='137', origin='ABI', destination='DFW')\n",
       "Row(date='01041730', delay='135', distance='137', origin='ABI', destination='DFW')\n",
       "Row(date='01040700', delay='-3', distance='137', origin='ABI', destination='DFW')\n",
       "Row(date='01041155', delay='-2', distance='137', origin='ABI', destination='DFW')\n",
       "Row(date='01040810', delay='-12', distance='137', origin='ABI', destination='DFW')\n",
       "Row(date='01050550', delay='-8', distance='137', origin='ABI', destination='DFW')\n",
       "Row(date='01050925', delay='-10', distance='137', origin='ABI', destination='DFW')\n",
       "Row(date='01051730', delay='-2', distance='137', origin='ABI', destination='DFW')\n",
       "Row(date='01050700', delay='-6', distance='137', origin='ABI', destination='DFW')\n",
       "Row(date='01051155', delay='-2', distance='137', origin='ABI', destination='DFW')\n",
       "Row(date='01050810', delay='-12', distance='137', origin='ABI', destination='DFW')\n",
       "Row(date='01060550', delay='-8', distance='137', origin='ABI', destination='DFW')\n",
       "Row(date='01060925', delay='0', distance='137', origin='ABI', destination='DFW')\n",
       "Row(date='01061730', delay='-7', distance='137', origin='ABI', destination='DFW')\n",
       "Row(date='01060700', delay='-3', distance='137', origin='ABI', destination='DFW')\n",
       "Row(date='01061155', delay='-4', distance='137', origin='ABI', destination='DFW')\n",
       "Row(date='01060810', delay='-8', distance='137', origin='ABI', destination='DFW')\n",
       "Row(date='01070550', delay='-3', distance='137', origin='ABI', destination='DFW')\n",
       "Row(date='01070925', delay='62', distance='137', origin='ABI', destination='DFW')\n",
       "Row(date='01071730', delay='0', distance='137', origin='ABI', destination='DFW')\n",
       "Row(date='01070700', delay='4', distance='137', origin='ABI', destination='DFW')\n",
       "Row(date='01071155', delay='10', distance='137', origin='ABI', destination='DFW')\n",
       "Row(date='01070810', delay='-10', distance='137', origin='ABI', destination='DFW')\n",
       "Row(date='01080550', delay='-9', distance='137', origin='ABI', destination='DFW')\n",
       "Row(date='01080925', delay='-11', distance='137', origin='ABI', destination='DFW')\n",
       "Row(date='01081730', delay='7', distance='137', origin='ABI', destination='DFW')\n",
       "Row(date='01080700', delay='-8', distance='137', origin='ABI', destination='DFW')\n",
       "Row(date='01081155', delay='-11', distance='137', origin='ABI', destination='DFW')\n",
       "Row(date='01080810', delay='-13', distance='137', origin='ABI', destination='DFW')\n",
       "Row(date='01081400', delay='10', distance='137', origin='ABI', destination='DFW')\n",
       "Row(date='01090550', delay='395', distance='137', origin='ABI', destination='DFW')\n",
       "Row(date='01090925', delay='0', distance='137', origin='ABI', destination='DFW')\n",
       "Row(date='01091730', delay='38', distance='137', origin='ABI', destination='DFW')\n",
       "Row(date='01090700', delay='6', distance='137', origin='ABI', destination='DFW')\n",
       "Row(date='01091155', delay='21', distance='137', origin='ABI', destination='DFW')\n",
       "Row(date='01090810', delay='16', distance='137', origin='ABI', destination='DFW')\n",
       "Row(date='01091400', delay='-6', distance='137', origin='ABI', destination='DFW')\n",
       "Row(date='01100550', delay='-4', distance='137', origin='ABI', destination='DFW')\n",
       "Row(date='01100925', delay='34', distance='137', origin='ABI', destination='DFW')\n",
       "Row(date='01101730', delay='-2', distance='137', origin='ABI', destination='DFW')\n",
       "Row(date='01100700', delay='129', distance='137', origin='ABI', destination='DFW')\n",
       "Row(date='01101155', delay='-1', distance='137', origin='ABI', destination='DFW')\n",
       "Row(date='01100810', delay='-11', distance='137', origin='ABI', destination='DFW')\n",
       "Row(date='01101400', delay='30', distance='137', origin='ABI', destination='DFW')\n",
       "Row(date='01110905', delay='-8', distance='137', origin='ABI', destination='DFW')\n",
       "Row(date='01111730', delay='-14', distance='137', origin='ABI', destination='DFW')\n",
       "Row(date='01110700', delay='-5', distance='137', origin='ABI', destination='DFW')\n",
       "Row(date='01111155', delay='16', distance='137', origin='ABI', destination='DFW')\n",
       "Row(date='01110810', delay='-6', distance='137', origin='ABI', destination='DFW')\n",
       "Row(date='01111400', delay='39', distance='137', origin='ABI', destination='DFW')\n",
       "Row(date='01120550', delay='-12', distance='137', origin='ABI', destination='DFW')\n",
       "Row(date='01120925', delay='-5', distance='137', origin='ABI', destination='DFW')\n",
       "Row(date='01121730', delay='-9', distance='137', origin='ABI', destination='DFW')\n",
       "Row(date='01120700', delay='35', distance='137', origin='ABI', destination='DFW')\n",
       "Row(date='01121155', delay='158', distance='137', origin='ABI', destination='DFW')\n",
       "Row(date='01120810', delay='-9', distance='137', origin='ABI', destination='DFW')\n",
       "Row(date='01121400', delay='-9', distance='137', origin='ABI', destination='DFW')\n",
       "Row(date='01130550', delay='-5', distance='137', origin='ABI', destination='DFW')\n",
       "Row(date='01130925', delay='-7', distance='137', origin='ABI', destination='DFW')\n",
       "Row(date='01131730', delay='-9', distance='137', origin='ABI', destination='DFW')\n",
       "Row(date='01130700', delay='-9', distance='137', origin='ABI', destination='DFW')\n",
       "Row(date='01131155', delay='-10', distance='137', origin='ABI', destination='DFW')\n",
       "Row(date='01130810', delay='-7', distance='137', origin='ABI', destination='DFW')\n",
       "Row(date='01131400', delay='-1', distance='137', origin='ABI', destination='DFW')\n",
       "Row(date='01140550', delay='0', distance='137', origin='ABI', destination='DFW')\n",
       "Row(date='01140925', delay='4', distance='137', origin='ABI', destination='DFW')\n",
       "Row(date='01141730', delay='-13', distance='137', origin='ABI', destination='DFW')\n",
       "Row(date='01140700', delay='49', distance='137', origin='ABI', destination='DFW')\n",
       "Row(date='01141155', delay='-10', distance='137', origin='ABI', destination='DFW')\n",
       "Row(date='01140810', delay='-8', distance='137', origin='ABI', destination='DFW')\n",
       "Row(date='01141400', delay='-17', distance='137', origin='ABI', destination='DFW')\n",
       "Row(date='01150550', delay='-11', distance='137', origin='ABI', destination='DFW')\n",
       "Row(date='01150925', delay='-6', distance='137', origin='ABI', destination='DFW')\n",
       "Row(date='01151730', delay='-9', distance='137', origin='ABI', destination='DFW')\n",
       "Row(date='01150700', delay='-8', distance='137', origin='ABI', destination='DFW')\n",
       "Row(date='01151155', delay='-5', distance='137', origin='ABI', destination='DFW')\n",
       "Row(date='01150810', delay='-12', distance='137', origin='ABI', destination='DFW')\n",
       "Row(date='01151400', delay='-3', distance='137', origin='ABI', destination='DFW')\n",
       "Row(date='01160550', delay='-2', distance='137', origin='ABI', destination='DFW')\n",
       "Row(date='01160925', delay='-12', distance='137', origin='ABI', destination='DFW')\n",
       "Row(date='01161730', delay='-3', distance='137', origin='ABI', destination='DFW')\n",
       "Row(date='01160700', delay='-8', distance='137', origin='ABI', destination='DFW')\n",
       "Row(date='01161155', delay='56', distance='137', origin='ABI', destination='DFW')\n",
       "Row(date='01160810', delay='-10', distance='137', origin='ABI', destination='DFW')\n",
       "Row(date='01161400', delay='8', distance='137', origin='ABI', destination='DFW')\n",
       "Row(date='01170550', delay='-1', distance='137', origin='ABI', destination='DFW')\n",
       "Row(date='01170925', delay='-6', distance='137', origin='ABI', destination='DFW')\n",
       "Row(date='01171730', delay='-5', distance='137', origin='ABI', destination='DFW')\n",
       "Row(date='01170700', delay='-12', distance='137', origin='ABI', destination='DFW')\n",
       "Row(date='01171155', delay='18', distance='137', origin='ABI', destination='DFW')\n",
       "Row(date='01170810', delay='-11', distance='137', origin='ABI', destination='DFW')\n",
       "Row(date='01171400', delay='-7', distance='137', origin='ABI', destination='DFW')\n",
       "Row(date='01180905', delay='-7', distance='137', origin='ABI', destination='DFW')\n",
       "Row(date='01181730', delay='-9', distance='137', origin='ABI', destination='DFW')\n",
       "Row(date='01180700', delay='-10', distance='137', origin='ABI', destination='DFW')\n",
       "Row(date='01181155', delay='-11', distance='137', origin='ABI', destination='DFW')\n",
       "Row(date='01180810', delay='-13', distance='137', origin='ABI', destination='DFW')\n",
       "Row(date='01181400', delay='6', distance='137', origin='ABI', destination='DFW')\n",
       "Row(date='01190550', delay='-12', distance='137', origin='ABI', destination='DFW')\n",
       "Row(date='01190925', delay='-12', distance='137', origin='ABI', destination='DFW')\n",
       "Row(date='01191730', delay='-12', distance='137', origin='ABI', destination='DFW')\n",
       "Row(date='01190700', delay='-9', distance='137', origin='ABI', destination='DFW')\n",
       "Row(date='01191155', delay='-11', distance='137', origin='ABI', destination='DFW')\n",
       "Row(date='01190810', delay='-22', distance='137', origin='ABI', destination='DFW')\n",
       "Row(date='01191400', delay='-12', distance='137', origin='ABI', destination='DFW')\n",
       "Row(date='01200550', delay='-9', distance='137', origin='ABI', destination='DFW')\n",
       "Row(date='01200925', delay='-8', distance='137', origin='ABI', destination='DFW')\n",
       "Row(date='01201730', delay='-8', distance='137', origin='ABI', destination='DFW')\n",
       "Row(date='01200700', delay='-8', distance='137', origin='ABI', destination='DFW')\n",
       "Row(date='01201155', delay='-5', distance='137', origin='ABI', destination='DFW')\n",
       "Row(date='01200810', delay='19', distance='137', origin='ABI', destination='DFW')\n",
       "Row(date='01201400', delay='3', distance='137', origin='ABI', destination='DFW')\n",
       "Row(date='01210550', delay='-7', distance='137', origin='ABI', destination='DFW')\n",
       "Row(date='01210925', delay='29', distance='137', origin='ABI', destination='DFW')\n",
       "Row(date='01211730', delay='-9', distance='137', origin='ABI',\n",
       "\n",
       "*** WARNING: max output size exceeded, skipping output. ***\n",
       "\n",
       "67', origin='SEA', destination='PHL')\n",
       "Row(date='03131310', delay='-6', distance='1216', origin='SEA', destination='MSP')\n",
       "Row(date='03130650', delay='-5', distance='1216', origin='SEA', destination='MSP')\n",
       "Row(date='03130840', delay='-7', distance='2361', origin='SEA', destination='FLL')\n",
       "Row(date='03130750', delay='320', distance='790', origin='SEA', destination='JNU')\n",
       "Row(date='03130720', delay='117', distance='591', origin='SEA', destination='KTN')\n",
       "Row(date='03131510', delay='5', distance='591', origin='SEA', destination='KTN')\n",
       "Row(date='03131850', delay='-5', distance='591', origin='SEA', destination='KTN')\n",
       "Row(date='03131125', delay='42', distance='790', origin='SEA', destination='JNU')\n",
       "Row(date='03130600', delay='0', distance='1259', origin='SEA', destination='ANC')\n",
       "Row(date='03130805', delay='-5', distance='1259', origin='SEA', destination='ANC')\n",
       "Row(date='03131015', delay='7', distance='1259', origin='SEA', destination='ANC')\n",
       "Row(date='03131235', delay='5', distance='1259', origin='SEA', destination='ANC')\n",
       "Row(date='03131915', delay='1', distance='1259', origin='SEA', destination='ANC')\n",
       "Row(date='03131400', delay='3', distance='1259', origin='SEA', destination='ANC')\n",
       "Row(date='03131605', delay='4', distance='1259', origin='SEA', destination='ANC')\n",
       "Row(date='03132350', delay='-7', distance='1259', origin='SEA', destination='ANC')\n",
       "Row(date='03131345', delay='10', distance='1332', origin='SEA', destination='FAI')\n",
       "Row(date='03132310', delay='-3', distance='1259', origin='SEA', destination='ANC')\n",
       "Row(date='03132315', delay='-1', distance='1332', origin='SEA', destination='FAI')\n",
       "Row(date='03132010', delay='-3', distance='1332', origin='SEA', destination='FAI')\n",
       "Row(date='03130605', delay='-6', distance='605', origin='SEA', destination='SJC')\n",
       "Row(date='03130715', delay='2', distance='590', origin='SEA', destination='SFO')\n",
       "Row(date='03132015', delay='3', distance='605', origin='SEA', destination='SJC')\n",
       "Row(date='03130950', delay='-2', distance='913', origin='SEA', destination='SAN')\n",
       "Row(date='03130710', delay='4', distance='913', origin='SEA', destination='SAN')\n",
       "Row(date='03132043', delay='48', distance='590', origin='SEA', destination='SFO')\n",
       "Row(date='03131830', delay='10', distance='590', origin='SEA', destination='SFO')\n",
       "Row(date='03131200', delay='-2', distance='590', origin='SEA', destination='SFO')\n",
       "Row(date='03131050', delay='-5', distance='590', origin='SEA', destination='SFO')\n",
       "Row(date='03130617', delay='3', distance='590', origin='SEA', destination='SFO')\n",
       "Row(date='03131430', delay='-5', distance='590', origin='SEA', destination='SFO')\n",
       "Row(date='03130950', delay='-6', distance='590', origin='SEA', destination='SFO')\n",
       "Row(date='03131555', delay='-2', distance='605', origin='SEA', destination='SJC')\n",
       "Row(date='03131255', delay='0', distance='605', origin='SEA', destination='SJC')\n",
       "Row(date='03131845', delay='-3', distance='605', origin='SEA', destination='SJC')\n",
       "Row(date='03130710', delay='-6', distance='605', origin='SEA', destination='SJC')\n",
       "Row(date='03130610', delay='-7', distance='583', origin='SEA', destination='OAK')\n",
       "Row(date='03131000', delay='1', distance='583', origin='SEA', destination='OAK')\n",
       "Row(date='03131600', delay='5', distance='583', origin='SEA', destination='OAK')\n",
       "Row(date='03132125', delay='-2', distance='583', origin='SEA', destination='OAK')\n",
       "Row(date='03131345', delay='-2', distance='526', origin='SEA', destination='SMF')\n",
       "Row(date='03131855', delay='-5', distance='526', origin='SEA', destination='SMF')\n",
       "Row(date='03132140', delay='-2', distance='526', origin='SEA', destination='SMF')\n",
       "Row(date='03131650', delay='-6', distance='829', origin='SEA', destination='LAX')\n",
       "Row(date='03132155', delay='7', distance='829', origin='SEA', destination='LAX')\n",
       "Row(date='03131025', delay='-3', distance='829', origin='SEA', destination='LAX')\n",
       "Row(date='03130617', delay='-1', distance='829', origin='SEA', destination='LAX')\n",
       "Row(date='03131935', delay='73', distance='829', origin='SEA', destination='LAX')\n",
       "Row(date='03130815', delay='-3', distance='829', origin='SEA', destination='LAX')\n",
       "Row(date='03131835', delay='11', distance='829', origin='SEA', destination='LAX')\n",
       "Row(date='03130705', delay='2', distance='829', origin='SEA', destination='LAX')\n",
       "Row(date='03132105', delay='-9', distance='829', origin='SEA', destination='LAX')\n",
       "Row(date='03131430', delay='64', distance='829', origin='SEA', destination='LAX')\n",
       "Row(date='03130610', delay='0', distance='913', origin='SEA', destination='SAN')\n",
       "Row(date='03132035', delay='-4', distance='829', origin='SEA', destination='LAX')\n",
       "Row(date='03130720', delay='-4', distance='829', origin='SEA', destination='LAX')\n",
       "Row(date='03132043', delay='-3', distance='913', origin='SEA', destination='SAN')\n",
       "Row(date='03131115', delay='-4', distance='913', origin='SEA', destination='SAN')\n",
       "Row(date='03131240', delay='-5', distance='913', origin='SEA', destination='SAN')\n",
       "Row(date='03131440', delay='1', distance='913', origin='SEA', destination='SAN')\n",
       "Row(date='03131855', delay='-7', distance='913', origin='SEA', destination='SAN')\n",
       "Row(date='03130900', delay='2', distance='850', origin='SEA', destination='SNA')\n",
       "Row(date='03130600', delay='-3', distance='850', origin='SEA', destination='SNA')\n",
       "Row(date='03131205', delay='-4', distance='850', origin='SEA', destination='SNA')\n",
       "Row(date='03131845', delay='-1', distance='850', origin='SEA', destination='SNA')\n",
       "Row(date='03131400', delay='-1', distance='850', origin='SEA', destination='SNA')\n",
       "Row(date='03131655', delay='-4', distance='850', origin='SEA', destination='SNA')\n",
       "Row(date='03131945', delay='-3', distance='850', origin='SEA', destination='SNA')\n",
       "Row(date='03131505', delay='-8', distance='814', origin='SEA', destination='BUR')\n",
       "Row(date='03130755', delay='-6', distance='814', origin='SEA', destination='BUR')\n",
       "Row(date='03131938', delay='-1', distance='814', origin='SEA', destination='BUR')\n",
       "Row(date='03130725', delay='174', distance='831', origin='SEA', destination='ONT')\n",
       "Row(date='03132055', delay='3', distance='831', origin='SEA', destination='ONT')\n",
       "Row(date='03131405', delay='-7', distance='831', origin='SEA', destination='ONT')\n",
       "Row(date='03130645', delay='1', distance='858', origin='SEA', destination='PSP')\n",
       "Row(date='03131300', delay='-1', distance='858', origin='SEA', destination='PSP')\n",
       "Row(date='03130915', delay='17', distance='858', origin='SEA', destination='PSP')\n",
       "Row(date='03130815', delay='-1', distance='753', origin='SEA', destination='LAS')\n",
       "Row(date='03130935', delay='-5', distance='753', origin='SEA', destination='LAS')\n",
       "Row(date='03130605', delay='-2', distance='753', origin='SEA', destination='LAS')\n",
       "Row(date='03131410', delay='26', distance='753', origin='SEA', destination='LAS')\n",
       "Row(date='03130705', delay='-10', distance='753', origin='SEA', destination='LAS')\n",
       "Row(date='03131205', delay='15', distance='753', origin='SEA', destination='LAS')\n",
       "Row(date='03132040', delay='-2', distance='753', origin='SEA', destination='LAS')\n",
       "Row(date='03131835', delay='11', distance='753', origin='SEA', destination='LAS')\n",
       "Row(date='03131850', delay='10', distance='962', origin='SEA', destination='PHX')\n",
       "Row(date='03130600', delay='-2', distance='962', origin='SEA', destination='PHX')\n",
       "Row(date='03130750', delay='-2', distance='962', origin='SEA', destination='PHX')\n",
       "Row(date='03132040', delay='-3', distance='962', origin='SEA', destination='PHX')\n",
       "Row(date='03131505', delay='20', distance='962', origin='SEA', destination='PHX')\n",
       "Row(date='03131015', delay='-1', distance='962', origin='SEA', destination='PHX')\n",
       "Row(date='03131217', delay='10', distance='1057', origin='SEA', destination='TUS')\n",
       "Row(date='03130650', delay='0', distance='1442', origin='SEA', destination='DFW')\n",
       "Row(date='03131310', delay='33', distance='1442', origin='SEA', destination='DFW')\n",
       "Row(date='03131135', delay='-8', distance='1538', origin='SEA', destination='AUS')\n",
       "Row(date='03131025', delay='-3', distance='890', origin='SEA', destination='DEN')\n",
       "Row(date='03131405', delay='154', distance='890', origin='SEA', destination='DEN')\n",
       "Row(date='03130657', delay='-4', distance='890', origin='SEA', destination='DEN')\n",
       "Row(date='03131905', delay='-1', distance='890', origin='SEA', destination='DEN')\n",
       "Row(date='03131150', delay='-2', distance='194', origin='SEA', destination='GEG')\n",
       "Row(date='03131240', delay='-6', distance='1542', origin='SEA', destination='SAT')\n",
       "Row(date='03132010', delay='-8', distance='194', origin='SEA', destination='GEG')\n",
       "Row(date='03132300', delay='4', distance='194', origin='SEA', destination='GEG')\n",
       "Row(date='03130700', delay='-5', distance='598', origin='SEA', destination='SLC')\n",
       "Row(date='03131300', delay='22', distance='598', origin='SEA', destination='SLC')\n",
       "Row(date='03131020', delay='0', distance='1628', origin='SEA', destination='IAH')\n",
       "Row(date='03132115', delay='-2', distance='1259', origin='SEA', destination='ANC')\n",
       "Row(date='03130810', delay='1', distance='1896', origin='SEA', destination='ATL')\n",
       "Row(date='03131150', delay='-1', distance='1485', origin='SEA', destination='STL')\n",
       "Row(date='03131030', delay='-4', distance='1294', origin='SEA', destination='MCI')\n",
       "Row(date='03130725', delay='-4', distance='526', origin='SEA', destination='SMF')\n",
       "Row(date='03131830', delay='2', distance='2347', origin='SEA', destination='LIH')\n",
       "Row(date='03131015', delay='-5', distance='2336', origin='SEA', destination='KOA')\n",
       "Row(date='03131035', delay='-4', distance='2326', origin='SEA', destination='HNL')\n",
       "Row(date='03131735', delay='12', distance='2326', origin='SEA', destination='HNL')\n",
       "Row(date='03130830', delay='-6', distance='2294', origin='SEA', destination='OGG')\n",
       "Row(date='03131640', delay='-9', distance='2294', origin='SEA', destination='OGG')\n",
       "Row(date='03130900', delay='37', distance='2347', origin='SEA', destination='LIH')\n",
       "Row(date='03131930', delay='70', distance='2326', origin='SEA', destination='HNL')\n",
       "Row(date='03141415', delay='12', distance='2023', origin='SEA', destination='DCA')\n",
       "Row(date='03140815', delay='0', distance='2023', origin='SEA', destination='DCA')\n",
       "Row(date='03140905', delay='26', distance='2087', origin='SEA', destination='EWR')\n",
       "Row(date='03142152', delay='30', distance='2219', origin='SEA', destination='MCO')\n",
       "Row(date='03140950', delay='-4', distance='2169', origin='SEA', destination='BOS')\n",
       "Row(date='03141530', delay='131', distance='2087', origin='SEA', destination='EWR')\n",
       "Row(date='03140800', delay='-2', distance='2219', origin='SEA', destination='MCO')\n",
       "Row(date='03141245', delay='4', distance='1495', origin='SEA', destination='ORD')\n",
       "Row(date='03142220', delay='29', distance='2169', origin='SEA', destination='BOS')\n",
       "Row(date='03141805', delay='3', distance='1495', origin='SEA', destination='ORD')\n",
       "Row(date='03140830', delay='-2', distance='1495', origin='SEA', destination='ORD')\n",
       "Row(date='03140835', delay='-1', distance='2067', origin='SEA', destination='PHL')\n",
       "Row(date='03141310', delay='8', distance='1216', origin='SEA', destination='MSP')\n",
       "Row(date='03140650', delay='0', distance='1216', origin='SEA', destination='MSP')\n",
       "Row(date='03140840', delay='20', distance='2361', origin='SEA', destination='FLL')\n",
       "Row(date='03140750', delay='5', distance='790', origin='SEA', destination='JNU')\n",
       "Row(date='03140720', delay='-5', distance='591', origin='SEA', destination='KTN')\n",
       "Row(date='03141510', delay='1', distance='591', origin='SEA', destination='KTN')\n",
       "Row(date='03141850', delay='7', distance='591', origin='SEA', destination='KTN')\n",
       "Row(date='03141125', delay='-4', distance='790', origin='SEA', destination='JNU')\n",
       "Row(date='03140600', delay='0', distance='1259', origin='SEA', destination='ANC')\n",
       "Row(date='03140805', delay='17', distance='1259', origin='SEA', destination='ANC')\n",
       "Row(date='03141015', delay='-1', distance='1259', origin='SEA', destination='ANC')\n",
       "Row(date='03141235', delay='-4', distance='1259', origin='SEA', destination='ANC')\n",
       "Row(date='03141915', delay='14', distance='1259', origin='SEA', destination='ANC')\n",
       "Row(date='03141400', delay='0', distance='1259', origin='SEA', destination='ANC')\n",
       "Row(date='03141605', delay='34', distance='1259', origin='SEA', destination='ANC')\n",
       "Row(date='03142350', delay='-6', distance='1259', origin='SEA', destination='ANC')\n",
       "Row(date='03141345', delay='5', distance='1332', origin='SEA', destination='FAI')\n",
       "Row(date='03142310', delay='-4', distance='1259', origin='SEA', destination='ANC')\n",
       "Row(date='03142315', delay='-2', distance='1332', origin='SEA', destination='FAI')\n",
       "Row(date='03142010', delay='98', distance='1332', origin='SEA', destination='FAI')\n",
       "Row(date='03140605', delay='-4', distance='605', origin='SEA', destination='SJC')\n",
       "Row(date='03140715', delay='1', distance='590', origin='SEA', destination='SFO')\n",
       "Row(date='03142015', delay='15', distance='605', origin='SEA', destination='SJC')\n",
       "Row(date='03140950', delay='-5', distance='913', origin='SEA', destination='SAN')\n",
       "Row(date='03140710', delay='-2', distance='913', origin='SEA', destination='SAN')\n",
       "Row(date='03140600', delay='2', distance='605', origin='SEA', destination='SJC')\n",
       "Row(date='03142043', delay='101', distance='590', origin='SEA', destination='SFO')\n",
       "Row(date='03141830', delay='-3', distance='590', origin='SEA', destination='SFO')\n",
       "Row(date='03141200', delay='5', distance='590', origin='SEA', destination='SFO')\n",
       "Row(date='03141050', delay='53', distance='590', origin='SEA', destination='SFO')\n",
       "Row(date='03140617', delay='-2', distance='590', origin='SEA', destination='SFO')\n",
       "Row(date='03141430', delay='65', distance='590', origin='SEA', destination='SFO')\n",
       "Row(date='03140950', delay='35', distance='590', origin='SEA', destination='SFO')\n",
       "Row(date='03141555', delay='-7', distance='605', origin='SEA', destination='SJC')\n",
       "Row(date='03141255', delay='26', distance='605', origin='SEA', destination='SJC')\n",
       "Row(date='03141845', delay='23', distance='605', origin='SEA', destination='SJC')\n",
       "Row(date='03140710', delay='-4', distance='605', origin='SEA', destination='SJC')\n",
       "Row(date='03140610', delay='-2', distance='583', origin='SEA', destination='OAK')\n",
       "Row(date='03141000', delay='2', distance='583', origin='SEA', destination='OAK')\n",
       "Row(date='03141600', delay='0', distance='583', origin='SEA', destination='OAK')\n",
       "Row(date='03142125', delay='-5', distance='583', origin='SEA', destination='OAK')\n",
       "Row(date='03141345', delay='0', distance='526', origin='SEA', destination='SMF')\n",
       "Row(date='03141855', delay='39', distance='526', origin='SEA', destination='SMF')\n",
       "Row(date='03142140', delay='0', distance='526', origin='SEA', destination='SMF')\n",
       "Row(date='03141650', delay='197', distance='829', origin='SEA', destination='LAX')\n",
       "Row(date='03142155', delay='12', distance='829', origin='SEA', destination='LAX')\n",
       "Row(date='03141025', delay='-1', distance='829', origin='SEA', destination='LAX')\n",
       "Row(date='03140617', delay='-2', distance='829', origin='SEA', destination='LAX')\n",
       "Row(date='03141935', delay='32', distance='829', origin='SEA', destination='LAX')\n",
       "Row(date='03140815', delay='1', distance='829', origin='SEA', destination='LAX')\n",
       "Row(date='03141835', delay='0', distance='829', origin='SEA', destination='LAX')\n",
       "Row(date='03140705', delay='-2', distance='829', origin='SEA', destination='LAX')\n",
       "Row(date='03142105', delay='13', distance='829', origin='SEA', destination='LAX')\n",
       "Row(date='03141430', delay='-1', distance='829', origin='SEA', destination='LAX')\n",
       "Row(date='03140610', delay='-3', distance='913', origin='SEA', destination='SAN')\n",
       "Row(date='03142035', delay='40', distance='829', origin='SEA', destination='LAX')\n",
       "Row(date='03140720', delay='0', distance='829', origin='SEA', destination='LAX')\n",
       "Row(date='03142043', delay='52', distance='913', origin='SEA', destination='SAN')\n",
       "Row(date='03141115', delay='-4', distance='913', origin='SEA', destination='SAN')\n",
       "Row(date='03141240', delay='-4', distance='913', origin='SEA', destination='SAN')\n",
       "Row(date='03141855', delay='9', distance='913', origin='SEA', destination='SAN')\n",
       "Row(date='03140900', delay='0', distance='850', origin='SEA', destination='SNA')\n",
       "Row(date='03140600', delay='-5', distance='850', origin='SEA', destination='SNA')\n",
       "Row(date='03141205', delay='-3', distance='850', origin='SEA', destination='SNA')\n",
       "Row(date='03141845', delay='6', distance='850', origin='SEA', destination='SNA')\n",
       "Row(date='03141400', delay='-4', distance='850', origin='SEA', destination='SNA')\n",
       "Row(date='03141655', delay='-1', distance='850', origin='SEA', destination='SNA')\n",
       "Row(date='03141945', delay='-5', distance='850', origin='SEA', destination='SNA')\n",
       "Row(date='03141505', delay='5', distance='814', origin='SEA', destination='BUR')\n",
       "Row(date='03140755', delay='-1', distance='814', origin='SEA', destination='BUR')\n",
       "Row(date='03141938', delay='-4', distance='814', origin='SEA', destination='BUR')\n",
       "Row(date='03140725', delay='0', distance='831', origin='SEA', destination='ONT')\n",
       "Row(date='03142055', delay='96', distance='831', origin='SEA', destination='ONT')\n",
       "Row(date='03141405', delay='88', distance='831', origin='SEA', destination='ONT')\n",
       "Row(date='03140645', delay='0', distance='858', origin='SEA', destination='PSP')\n",
       "Row(date='03141300', delay='-5', distance='858', origin='SEA', destination='PSP')\n",
       "Row(date='03140915', delay='-1', distance='858', origin='SEA', destination='PSP')\n",
       "Row(date='03140815', delay='-2', distance='753', origin='SEA', destination='LAS')\n",
       "Row(date='03140935', delay='-3', distance='753', origin='SEA', destination='LAS')\n",
       "Row(date='03140605', delay='-3', distance='753', origin='SEA', destination='LAS')\n",
       "Row(date='03141410', delay='102', distance='753', origin='SEA', destination='LAS')\n",
       "Row(date='03140705', delay='-2', distance='753', origin='SEA', destination='LAS')\n",
       "Row(date='03141205', delay='-4', distance='753', origin='SEA', destination='LAS')\n",
       "Row(date='03142040', delay='2', distance='753', origin='SEA', destination='LAS')\n",
       "Row(date='03141835', delay='88', distance='753', origin='SEA', destination='LAS')\n",
       "Row(date='03141850', delay='-2', distance='962', origin='SEA', destination='PHX')\n",
       "Row(date='03140600', delay='-1', distance='962', origin='SEA', destination='PHX')\n",
       "Row(date='03140750', delay='-1', distance='962', origin='SEA', destination='PHX')\n",
       "Row(date='03142040', delay='57', distance='962', origin='SEA', destination='PHX')\n",
       "Row(date='03141505', delay='9', distance='962', origin='SEA', destination='PHX')\n",
       "Row(date='03141015', delay='0', distance='962', origin='SEA', destination='PHX')\n",
       "Row(date='03141217', delay='24', distance='1057', origin='SEA', destination='TUS')\n",
       "Row(date='03140650', delay='3', distance='1442', origin='SEA', destination='DFW')\n",
       "Row(date='03141310', delay='1', distance='1442', origin='SEA', destination='DFW')\n",
       "Row(date='03141135', delay='-4', distance='1538', origin='SEA', destination='AUS')\n",
       "Row(date='03141025', delay='-4', distance='890', origin='SEA', destination='DEN')\n",
       "Row(date='03141405', delay='4', distance='890', origin='SEA', destination='DEN')\n",
       "Row(date='03140657', delay='1', distance='890', origin='SEA', destination='DEN')\n",
       "Row(date='03141905', delay='-5', distance='890', origin='SEA', destination='DEN')\n",
       "Row(date='03141150', delay='-4', distance='194', origin='SEA', destination='GEG')\n",
       "Row(date='03141240', delay='34', distance='1542', origin='SEA', destination='SAT')\n",
       "Row(date='03142010', delay='-3', distance='194', origin='SEA', destination='GEG')\n",
       "Row(date='03142300', delay='-1', distance='194', origin='SEA', destination='GEG')\n",
       "Row(date='03140700', delay='1', distance='598', origin='SEA', destination='SLC')\n",
       "Row(date='03141300', delay='-2', distance='598', origin='SEA', destination='SLC')\n",
       "Row(date='03141020', delay='-1', distance='1628', origin='SEA', destination='IAH')\n",
       "Row(date='03142115', delay='4', distance='1259', origin='SEA', destination='ANC')\n",
       "Row(date='03140810', delay='1', distance='1896', origin='SEA', destination='ATL')\n",
       "Row(date='03141150', delay='-2', distance='1485', origin='SEA', destination='STL')\n",
       "Row(date='03141030', delay='3', distance='1294', origin='SEA', destination='MCI')\n",
       "Row(date='03140725', delay='-5', distance='526', origin='SEA', destination='SMF')\n",
       "Row(date='03141015', delay='3', distance='2336', origin='SEA', destination='KOA')\n",
       "Row(date='03141035', delay='295', distance='2326', origin='SEA', destination='HNL')\n",
       "Row(date='03141735', delay='-4', distance='2326', origin='SEA', destination='HNL')\n",
       "Row(date='03140830', delay='7', distance='2294', origin='SEA', destination='OGG')\n",
       "Row(date='03141640', delay='35', distance='2294', origin='SEA', destination='OGG')\n",
       "Row(date='03140900', delay='9', distance='2347', origin='SEA', destination='LIH')\n",
       "Row(date='03141820', delay='17', distance='2336', origin='SEA', destination='KOA')\n",
       "Row(date='03141930', delay='128', distance='2326', origin='SEA', destination='HNL')\n",
       "Row(date='03151415', delay='44', distance='2023', origin='SEA', destination='DCA')\n",
       "Row(date='03150815', delay='-4', distance='2023', origin='SEA', destination='DCA')\n",
       "Row(date='03150905', delay='17', distance='2087', origin='SEA', destination='EWR')\n",
       "Row(date='03152152', delay='2', distance='2219', origin='SEA', destination='MCO')\n",
       "Row(date='03150950', delay='0', distance='2169', origin='SEA', destination='BOS')\n",
       "Row(date='03150800', delay='2', distance='2219', origin='SEA', destination='MCO')\n",
       "Row(date='03152220', delay='-5', distance='2169', origin='SEA', destination='BOS')\n",
       "Row(date='03151805', delay='66', distance='1495', origin='SEA', destination='ORD')\n",
       "Row(date='03150830', delay='6', distance='1495', origin='SEA', destination='ORD')\n",
       "Row(date='03150835', delay='-1', distance='2067', origin='SEA', destination='PHL')\n",
       "Row(date='03151310', delay='-6', distance='1216', origin='SEA', destination='MSP')\n",
       "Row(date='03150650', delay='15', distance='1216', origin='SEA', destination='MSP')\n",
       "Row(date='03150840', delay='-4', distance='2361', origin='SEA', destination='FLL')\n",
       "Row(date='03150750', delay='0', distance='790', origin='SEA', destination='JNU')\n",
       "Row(date='03150720', delay='-2', distance='591', origin='SEA', destination='KTN')\n",
       "Row(date='03151510', delay='8', distance='591', origin='SEA', destination='KTN')\n",
       "Row(date='03151850', delay='-3', distance='591', origin='SEA', destination='KTN')\n",
       "Row(date='03151125', delay='-5', distance='790', origin='SEA', destination='JNU')\n",
       "Row(date='03150600', delay='-1', distance='1259', origin='SEA', destination='ANC')\n",
       "Row(date='03150805', delay='10', distance='1259', origin='SEA', destination='ANC')\n",
       "Row(date='03151015', delay='-3', distance='1259', origin='SEA', destination='ANC')\n",
       "Row(date='03151235', delay='10', distance='1259', origin='SEA', destination='ANC')\n",
       "Row(date='03151915', delay='0', distance='1259', origin='SEA', destination='ANC')\n",
       "Row(date='03151400', delay='-6', distance='1259', origin='SEA', destination='ANC')\n",
       "Row(date='03151605', delay='42', distance='1259', origin='SEA', destination='ANC')\n",
       "Row(date='03152350', delay='-7', distance='1259', origin='SEA', destination='ANC')\n",
       "Row(date='03151345', delay='92', distance='1332', origin='SEA', destination='FAI')\n",
       "Row(date='03152310', delay='27', distance='1259', origin='SEA', destination='ANC')\n",
       "Row(date='03152315', delay='-1', distance='1332', origin='SEA', destination='FAI')\n",
       "Row(date='03152010', delay='31', distance='1332', origin='SEA', destination='FAI')\n",
       "Row(date='03150605', delay='2', distance='605', origin='SEA', destination='SJC')\n",
       "Row(date='03150715', delay='-1', distance='590', origin='SEA', destination='SFO')\n",
       "Row(date='03152015', delay='0', distance='605', origin='SEA', destination='SJC')\n",
       "Row(date='03150950', delay='-5', distance='913', origin='SEA', destination='SAN')\n",
       "Row(date='03150710', delay='4', distance='913', origin='SEA', destination='SAN')\n",
       "Row(date='03152043', delay='-8', distance='590', origin='SEA', destination='SFO')\n",
       "Row(date='03151830', delay='-6', distance='590', origin='SEA', destination='SFO')\n",
       "Row(date='03151200', delay='-1', distance='590', origin='SEA', destination='SFO')\n",
       "Row(date='03151050', delay='-2', distance='590', origin='SEA', destination='SFO')\n",
       "Row(date='03151430', delay='-3', distance='590', origin='SEA', destination='SFO')\n",
       "Row(date='03150950', delay='-1', distance='590', origin='SEA', destination='SFO')\n",
       "Row(date='03151255', delay='-4', distance='605', origin='SEA', destination='SJC')\n",
       "Row(date='03151845', delay='-5', distance='605', origin='SEA', destination='SJC')\n",
       "Row(date='03150710', delay='-3', distance='605', origin='SEA', destination='SJC')\n",
       "Row(date='03150610', delay='0', distance='583', origin='SEA', destination='OAK')\n",
       "Row(date='03151000', delay='-1', distance='583', origin='SEA', destination='OAK')\n",
       "Row(date='03151600', delay='30', distance='583', origin='SEA', destination='OAK')\n",
       "Row(date='03152125', delay='-5', distance='583', origin='SEA', destination='OAK')\n",
       "Row(date='03151345', delay='-6', distance='526', origin='SEA', destination='SMF')\n",
       "Row(date='03151855', delay='-4', distance='526', origin='SEA', destination='SMF')\n",
       "Row(date='03152140', delay='-3', distance='526', origin='SEA', destination='SMF')\n",
       "Row(date='03151650', delay='-4', distance='829', origin='SEA', destination='LAX')\n",
       "Row(date='03151025', delay='1', distance='829', origin='SEA', destination='LAX')\n",
       "Row(date='03150617', delay='4', distance='829', origin='SEA', destination='LAX')\n"
      ]
     },
     "metadata": {
      "application/vnd.databricks.v1+output": {
       "addedWidgets": {},
       "arguments": {},
       "data": "Row(date='01011245', delay='6', distance='602', origin='ABE', destination='ATL')\nRow(date='01020600', delay='-8', distance='369', origin='ABE', destination='DTW')\nRow(date='01021245', delay='-2', distance='602', origin='ABE', destination='ATL')\nRow(date='01020605', delay='-4', distance='602', origin='ABE', destination='ATL')\nRow(date='01031245', delay='-4', distance='602', origin='ABE', destination='ATL')\nRow(date='01030605', delay='0', distance='602', origin='ABE', destination='ATL')\nRow(date='01041243', delay='10', distance='602', origin='ABE', destination='ATL')\nRow(date='01040605', delay='28', distance='602', origin='ABE', destination='ATL')\nRow(date='01051245', delay='88', distance='602', origin='ABE', destination='ATL')\nRow(date='01050605', delay='9', distance='602', origin='ABE', destination='ATL')\nRow(date='01061215', delay='-6', distance='602', origin='ABE', destination='ATL')\nRow(date='01061725', delay='69', distance='602', origin='ABE', destination='ATL')\nRow(date='01061230', delay='0', distance='369', origin='ABE', destination='DTW')\nRow(date='01060625', delay='-3', distance='602', origin='ABE', destination='ATL')\nRow(date='01070600', delay='0', distance='369', origin='ABE', destination='DTW')\nRow(date='01071725', delay='0', distance='602', origin='ABE', destination='ATL')\nRow(date='01071230', delay='0', distance='369', origin='ABE', destination='DTW')\nRow(date='01070625', delay='0', distance='602', origin='ABE', destination='ATL')\nRow(date='01071219', delay='0', distance='569', origin='ABE', destination='ORD')\nRow(date='01080600', delay='0', distance='369', origin='ABE', destination='DTW')\nRow(date='01081230', delay='33', distance='369', origin='ABE', destination='DTW')\nRow(date='01080625', delay='1', distance='602', origin='ABE', destination='ATL')\nRow(date='01080607', delay='5', distance='569', origin='ABE', destination='ORD')\nRow(date='01081219', delay='54', distance='569', origin='ABE', destination='ORD')\nRow(date='01091215', delay='43', distance='602', origin='ABE', destination='ATL')\nRow(date='01090600', delay='151', distance='369', origin='ABE', destination='DTW')\nRow(date='01091725', delay='0', distance='602', origin='ABE', destination='ATL')\nRow(date='01091230', delay='-4', distance='369', origin='ABE', destination='DTW')\nRow(date='01090625', delay='8', distance='602', origin='ABE', destination='ATL')\nRow(date='01091219', delay='83', distance='569', origin='ABE', destination='ORD')\nRow(date='01101215', delay='-5', distance='602', origin='ABE', destination='ATL')\nRow(date='01100600', delay='-5', distance='369', origin='ABE', destination='DTW')\nRow(date='01101725', delay='7', distance='602', origin='ABE', destination='ATL')\nRow(date='01101230', delay='-8', distance='369', origin='ABE', destination='DTW')\nRow(date='01100625', delay='52', distance='602', origin='ABE', destination='ATL')\nRow(date='01101219', delay='0', distance='569', origin='ABE', destination='ORD')\nRow(date='01111215', delay='127', distance='602', origin='ABE', destination='ATL')\nRow(date='01110600', delay='-9', distance='369', origin='ABE', destination='DTW')\nRow(date='01110625', delay='-4', distance='602', origin='ABE', destination='ATL')\nRow(date='01121215', delay='-5', distance='602', origin='ABE', destination='ATL')\nRow(date='01121725', delay='-1', distance='602', origin='ABE', destination='ATL')\nRow(date='01131215', delay='14', distance='602', origin='ABE', destination='ATL')\nRow(date='01130600', delay='-7', distance='369', origin='ABE', destination='DTW')\nRow(date='01131725', delay='-6', distance='602', origin='ABE', destination='ATL')\nRow(date='01131230', delay='-13', distance='369', origin='ABE', destination='DTW')\nRow(date='01130625', delay='29', distance='602', origin='ABE', destination='ATL')\nRow(date='01131219', delay='-8', distance='569', origin='ABE', destination='ORD')\nRow(date='01140600', delay='-9', distance='369', origin='ABE', destination='DTW')\nRow(date='01141725', delay='-9', distance='602', origin='ABE', destination='ATL')\nRow(date='01141230', delay='-8', distance='369', origin='ABE', destination='DTW')\nRow(date='01140625', delay='-5', distance='602', origin='ABE', destination='ATL')\nRow(date='01141219', delay='-10', distance='569', origin='ABE', destination='ORD')\nRow(date='01150600', delay='0', distance='369', origin='ABE', destination='DTW')\nRow(date='01151725', delay='-6', distance='602', origin='ABE', destination='ATL')\nRow(date='01151230', delay='0', distance='369', origin='ABE', destination='DTW')\nRow(date='01150625', delay='0', distance='602', origin='ABE', destination='ATL')\nRow(date='01150607', delay='0', distance='569', origin='ABE', destination='ORD')\nRow(date='01151219', delay='0', distance='569', origin='ABE', destination='ORD')\nRow(date='01161215', delay='-10', distance='602', origin='ABE', destination='ATL')\nRow(date='01160600', delay='-1', distance='369', origin='ABE', destination='DTW')\nRow(date='01161725', delay='-6', distance='602', origin='ABE', destination='ATL')\nRow(date='01161230', delay='-7', distance='369', origin='ABE', destination='DTW')\nRow(date='01160625', delay='-4', distance='602', origin='ABE', destination='ATL')\nRow(date='01161219', delay='68', distance='569', origin='ABE', destination='ORD')\nRow(date='01171215', delay='-8', distance='602', origin='ABE', destination='ATL')\nRow(date='01170600', delay='-5', distance='369', origin='ABE', destination='DTW')\nRow(date='01171725', delay='5', distance='602', origin='ABE', destination='ATL')\nRow(date='01171230', delay='-10', distance='369', origin='ABE', destination='DTW')\nRow(date='01170625', delay='-6', distance='602', origin='ABE', destination='ATL')\nRow(date='01171219', delay='-10', distance='569', origin='ABE', destination='ORD')\nRow(date='01181215', delay='-12', distance='602', origin='ABE', destination='ATL')\nRow(date='01180600', delay='-13', distance='369', origin='ABE', destination='DTW')\nRow(date='01180625', delay='0', distance='602', origin='ABE', destination='ATL')\nRow(date='01191215', delay='-16', distance='602', origin='ABE', destination='ATL')\nRow(date='01191725', delay='-5', distance='602', origin='ABE', destination='ATL')\nRow(date='01201215', delay='-8', distance='602', origin='ABE', destination='ATL')\nRow(date='01201725', delay='-5', distance='602', origin='ABE', destination='ATL')\nRow(date='01201230', delay='-11', distance='369', origin='ABE', destination='DTW')\nRow(date='01200625', delay='-7', distance='602', origin='ABE', destination='ATL')\nRow(date='01201219', delay='-6', distance='569', origin='ABE', destination='ORD')\nRow(date='01210600', delay='89', distance='369', origin='ABE', destination='DTW')\nRow(date='01211725', delay='0', distance='602', origin='ABE', destination='ATL')\nRow(date='01211230', delay='44', distance='369', origin='ABE', destination='DTW')\nRow(date='01210625', delay='-6', distance='602', origin='ABE', destination='ATL')\nRow(date='01211219', delay='9', distance='569', origin='ABE', destination='ORD')\nRow(date='01220600', delay='80', distance='369', origin='ABE', destination='DTW')\nRow(date='01221230', delay='-5', distance='369', origin='ABE', destination='DTW')\nRow(date='01220625', delay='333', distance='602', origin='ABE', destination='ATL')\nRow(date='01220607', delay='219', distance='569', origin='ABE', destination='ORD')\nRow(date='01221219', delay='15', distance='569', origin='ABE', destination='ORD')\nRow(date='01231215', delay='-12', distance='602', origin='ABE', destination='ATL')\nRow(date='01230600', delay='-3', distance='369', origin='ABE', destination='DTW')\nRow(date='01231725', delay='180', distance='602', origin='ABE', destination='ATL')\nRow(date='01231230', delay='-5', distance='369', origin='ABE', destination='DTW')\nRow(date='01230625', delay='-8', distance='602', origin='ABE', destination='ATL')\nRow(date='01231219', delay='-13', distance='569', origin='ABE', destination='ORD')\nRow(date='01241215', delay='-11', distance='602', origin='ABE', destination='ATL')\nRow(date='01240600', delay='-3', distance='369', origin='ABE', destination='DTW')\nRow(date='01241725', delay='2', distance='602', origin='ABE', destination='ATL')\nRow(date='01241230', delay='-5', distance='369', origin='ABE', destination='DTW')\nRow(date='01240625', delay='-3', distance='602', origin='ABE', destination='ATL')\nRow(date='01241219', delay='0', distance='569', origin='ABE', destination='ORD')\nRow(date='01251215', delay='2', distance='602', origin='ABE', destination='ATL')\nRow(date='01250600', delay='-4', distance='369', origin='ABE', destination='DTW')\nRow(date='01250625', delay='-4', distance='602', origin='ABE', destination='ATL')\nRow(date='01261215', delay='1', distance='602', origin='ABE', destination='ATL')\nRow(date='01261725', delay='7', distance='602', origin='ABE', destination='ATL')\nRow(date='01271215', delay='-4', distance='602', origin='ABE', destination='ATL')\nRow(date='01270600', delay='-9', distance='369', origin='ABE', destination='DTW')\nRow(date='01271725', delay='-8', distance='602', origin='ABE', destination='ATL')\nRow(date='01271230', delay='-7', distance='369', origin='ABE', destination='DTW')\nRow(date='01270625', delay='-1', distance='602', origin='ABE', destination='ATL')\nRow(date='01271219', delay='0', distance='569', origin='ABE', destination='ORD')\nRow(date='01280600', delay='-6', distance='369', origin='ABE', destination='DTW')\nRow(date='01281725', delay='-3', distance='602', origin='ABE', destination='ATL')\nRow(date='01281230', delay='-8', distance='369', origin='ABE', destination='DTW')\nRow(date='01280625', delay='-4', distance='602', origin='ABE', destination='ATL')\nRow(date='01281219', delay='0', distance='569', origin='ABE', destination='ORD')\nRow(date='01290600', delay='0', distance='369', origin='ABE', destination='DTW')\nRow(date='01291230', delay='0', distance='369', origin='ABE', destination='DTW')\nRow(date='01290625', delay='4', distance='602', origin='ABE', destination='ATL')\nRow(date='01290607', delay='92', distance='569', origin='ABE', destination='ORD')\nRow(date='01291219', delay='-10', distance='569', origin='ABE', destination='ORD')\nRow(date='01301215', delay='0', distance='602', origin='ABE', destination='ATL')\nRow(date='01300600', delay='-1', distance='369', origin='ABE', destination='DTW')\nRow(date='01301725', delay='10', distance='602', origin='ABE', destination='ATL')\nRow(date='01301230', delay='0', distance='369', origin='ABE', destination='DTW')\nRow(date='01300625', delay='0', distance='602', origin='ABE', destination='ATL')\nRow(date='01301219', delay='-11', distance='569', origin='ABE', destination='ORD')\nRow(date='01311215', delay='1', distance='602', origin='ABE', destination='ATL')\nRow(date='01310600', delay='-4', distance='369', origin='ABE', destination='DTW')\nRow(date='01311725', delay='25', distance='602', origin='ABE', destination='ATL')\nRow(date='01311230', delay='-4', distance='369', origin='ABE', destination='DTW')\nRow(date='01310625', delay='-5', distance='602', origin='ABE', destination='ATL')\nRow(date='01311219', delay='24', distance='569', origin='ABE', destination='ORD')\nRow(date='01011400', delay='26', distance='137', origin='ABI', destination='DFW')\nRow(date='01011525', delay='-11', distance='137', origin='ABI', destination='DFW')\nRow(date='01021400', delay='-5', distance='137', origin='ABI', destination='DFW')\nRow(date='01021525', delay='47', distance='137', origin='ABI', destination='DFW')\nRow(date='01031400', delay='-12', distance='137', origin='ABI', destination='DFW')\nRow(date='01031525', delay='40', distance='137', origin='ABI', destination='DFW')\nRow(date='01041400', delay='-12', distance='137', origin='ABI', destination='DFW')\nRow(date='01041525', delay='3', distance='137', origin='ABI', destination='DFW')\nRow(date='01051400', delay='-5', distance='137', origin='ABI', destination='DFW')\nRow(date='01051525', delay='-5', distance='137', origin='ABI', destination='DFW')\nRow(date='01061400', delay='2', distance='137', origin='ABI', destination='DFW')\nRow(date='01061525', delay='22', distance='137', origin='ABI', destination='DFW')\nRow(date='01071400', delay='-12', distance='137', origin='ABI', destination='DFW')\nRow(date='01071525', delay='-15', distance='137', origin='ABI', destination='DFW')\nRow(date='01081525', delay='21', distance='137', origin='ABI', destination='DFW')\nRow(date='01091525', delay='-8', distance='137', origin='ABI', destination='DFW')\nRow(date='01101525', delay='4', distance='137', origin='ABI', destination='DFW')\nRow(date='01111525', delay='-23', distance='137', origin='ABI', destination='DFW')\nRow(date='01121525', delay='-9', distance='137', origin='ABI', destination='DFW')\nRow(date='01131525', delay='-12', distance='137', origin='ABI', destination='DFW')\nRow(date='01141525', delay='-5', distance='137', origin='ABI', destination='DFW')\nRow(date='01151525', delay='-17', distance='137', origin='ABI', destination='DFW')\nRow(date='01161525', delay='2', distance='137', origin='ABI', destination='DFW')\nRow(date='01171525', delay='-9', distance='137', origin='ABI', destination='DFW')\nRow(date='01181525', delay='-5', distance='137', origin='ABI', destination='DFW')\nRow(date='01191525', delay='-3', distance='137', origin='ABI', destination='DFW')\nRow(date='01201525', delay='-6', distance='137', origin='ABI', destination='DFW')\nRow(date='01211525', delay='-17', distance='137', origin='ABI', destination='DFW')\nRow(date='01221525', delay='40', distance='137', origin='ABI', destination='DFW')\nRow(date='01231525', delay='-12', distance='137', origin='ABI', destination='DFW')\nRow(date='01241525', delay='21', distance='137', origin='ABI', destination='DFW')\nRow(date='01251525', delay='-6', distance='137', origin='ABI', destination='DFW')\nRow(date='01261525', delay='-12', distance='137', origin='ABI', destination='DFW')\nRow(date='01271525', delay='-13', distance='137', origin='ABI', destination='DFW')\nRow(date='01281525', delay='-10', distance='137', origin='ABI', destination='DFW')\nRow(date='01291525', delay='146', distance='137', origin='ABI', destination='DFW')\nRow(date='01301525', delay='-13', distance='137', origin='ABI', destination='DFW')\nRow(date='01311525', delay='6', distance='137', origin='ABI', destination='DFW')\nRow(date='01010925', delay='-9', distance='137', origin='ABI', destination='DFW')\nRow(date='01011730', delay='72', distance='137', origin='ABI', destination='DFW')\nRow(date='01010700', delay='-5', distance='137', origin='ABI', destination='DFW')\nRow(date='01011155', delay='-6', distance='137', origin='ABI', destination='DFW')\nRow(date='01010810', delay='62', distance='137', origin='ABI', destination='DFW')\nRow(date='01020550', delay='-7', distance='137', origin='ABI', destination='DFW')\nRow(date='01020925', delay='7', distance='137', origin='ABI', destination='DFW')\nRow(date='01021730', delay='27', distance='137', origin='ABI', destination='DFW')\nRow(date='01020700', delay='150', distance='137', origin='ABI', destination='DFW')\nRow(date='01021155', delay='0', distance='137', origin='ABI', destination='DFW')\nRow(date='01020810', delay='1', distance='137', origin='ABI', destination='DFW')\nRow(date='01030550', delay='51', distance='137', origin='ABI', destination='DFW')\nRow(date='01030925', delay='-7', distance='137', origin='ABI', destination='DFW')\nRow(date='01031730', delay='-18', distance='137', origin='ABI', destination='DFW')\nRow(date='01030700', delay='2', distance='137', origin='ABI', destination='DFW')\nRow(date='01031155', delay='48', distance='137', origin='ABI', destination='DFW')\nRow(date='01030810', delay='-3', distance='137', origin='ABI', destination='DFW')\nRow(date='01040925', delay='-7', distance='137', origin='ABI', destination='DFW')\nRow(date='01041730', delay='135', distance='137', origin='ABI', destination='DFW')\nRow(date='01040700', delay='-3', distance='137', origin='ABI', destination='DFW')\nRow(date='01041155', delay='-2', distance='137', origin='ABI', destination='DFW')\nRow(date='01040810', delay='-12', distance='137', origin='ABI', destination='DFW')\nRow(date='01050550', delay='-8', distance='137', origin='ABI', destination='DFW')\nRow(date='01050925', delay='-10', distance='137', origin='ABI', destination='DFW')\nRow(date='01051730', delay='-2', distance='137', origin='ABI', destination='DFW')\nRow(date='01050700', delay='-6', distance='137', origin='ABI', destination='DFW')\nRow(date='01051155', delay='-2', distance='137', origin='ABI', destination='DFW')\nRow(date='01050810', delay='-12', distance='137', origin='ABI', destination='DFW')\nRow(date='01060550', delay='-8', distance='137', origin='ABI', destination='DFW')\nRow(date='01060925', delay='0', distance='137', origin='ABI', destination='DFW')\nRow(date='01061730', delay='-7', distance='137', origin='ABI', destination='DFW')\nRow(date='01060700', delay='-3', distance='137', origin='ABI', destination='DFW')\nRow(date='01061155', delay='-4', distance='137', origin='ABI', destination='DFW')\nRow(date='01060810', delay='-8', distance='137', origin='ABI', destination='DFW')\nRow(date='01070550', delay='-3', distance='137', origin='ABI', destination='DFW')\nRow(date='01070925', delay='62', distance='137', origin='ABI', destination='DFW')\nRow(date='01071730', delay='0', distance='137', origin='ABI', destination='DFW')\nRow(date='01070700', delay='4', distance='137', origin='ABI', destination='DFW')\nRow(date='01071155', delay='10', distance='137', origin='ABI', destination='DFW')\nRow(date='01070810', delay='-10', distance='137', origin='ABI', destination='DFW')\nRow(date='01080550', delay='-9', distance='137', origin='ABI', destination='DFW')\nRow(date='01080925', delay='-11', distance='137', origin='ABI', destination='DFW')\nRow(date='01081730', delay='7', distance='137', origin='ABI', destination='DFW')\nRow(date='01080700', delay='-8', distance='137', origin='ABI', destination='DFW')\nRow(date='01081155', delay='-11', distance='137', origin='ABI', destination='DFW')\nRow(date='01080810', delay='-13', distance='137', origin='ABI', destination='DFW')\nRow(date='01081400', delay='10', distance='137', origin='ABI', destination='DFW')\nRow(date='01090550', delay='395', distance='137', origin='ABI', destination='DFW')\nRow(date='01090925', delay='0', distance='137', origin='ABI', destination='DFW')\nRow(date='01091730', delay='38', distance='137', origin='ABI', destination='DFW')\nRow(date='01090700', delay='6', distance='137', origin='ABI', destination='DFW')\nRow(date='01091155', delay='21', distance='137', origin='ABI', destination='DFW')\nRow(date='01090810', delay='16', distance='137', origin='ABI', destination='DFW')\nRow(date='01091400', delay='-6', distance='137', origin='ABI', destination='DFW')\nRow(date='01100550', delay='-4', distance='137', origin='ABI', destination='DFW')\nRow(date='01100925', delay='34', distance='137', origin='ABI', destination='DFW')\nRow(date='01101730', delay='-2', distance='137', origin='ABI', destination='DFW')\nRow(date='01100700', delay='129', distance='137', origin='ABI', destination='DFW')\nRow(date='01101155', delay='-1', distance='137', origin='ABI', destination='DFW')\nRow(date='01100810', delay='-11', distance='137', origin='ABI', destination='DFW')\nRow(date='01101400', delay='30', distance='137', origin='ABI', destination='DFW')\nRow(date='01110905', delay='-8', distance='137', origin='ABI', destination='DFW')\nRow(date='01111730', delay='-14', distance='137', origin='ABI', destination='DFW')\nRow(date='01110700', delay='-5', distance='137', origin='ABI', destination='DFW')\nRow(date='01111155', delay='16', distance='137', origin='ABI', destination='DFW')\nRow(date='01110810', delay='-6', distance='137', origin='ABI', destination='DFW')\nRow(date='01111400', delay='39', distance='137', origin='ABI', destination='DFW')\nRow(date='01120550', delay='-12', distance='137', origin='ABI', destination='DFW')\nRow(date='01120925', delay='-5', distance='137', origin='ABI', destination='DFW')\nRow(date='01121730', delay='-9', distance='137', origin='ABI', destination='DFW')\nRow(date='01120700', delay='35', distance='137', origin='ABI', destination='DFW')\nRow(date='01121155', delay='158', distance='137', origin='ABI', destination='DFW')\nRow(date='01120810', delay='-9', distance='137', origin='ABI', destination='DFW')\nRow(date='01121400', delay='-9', distance='137', origin='ABI', destination='DFW')\nRow(date='01130550', delay='-5', distance='137', origin='ABI', destination='DFW')\nRow(date='01130925', delay='-7', distance='137', origin='ABI', destination='DFW')\nRow(date='01131730', delay='-9', distance='137', origin='ABI', destination='DFW')\nRow(date='01130700', delay='-9', distance='137', origin='ABI', destination='DFW')\nRow(date='01131155', delay='-10', distance='137', origin='ABI', destination='DFW')\nRow(date='01130810', delay='-7', distance='137', origin='ABI', destination='DFW')\nRow(date='01131400', delay='-1', distance='137', origin='ABI', destination='DFW')\nRow(date='01140550', delay='0', distance='137', origin='ABI', destination='DFW')\nRow(date='01140925', delay='4', distance='137', origin='ABI', destination='DFW')\nRow(date='01141730', delay='-13', distance='137', origin='ABI', destination='DFW')\nRow(date='01140700', delay='49', distance='137', origin='ABI', destination='DFW')\nRow(date='01141155', delay='-10', distance='137', origin='ABI', destination='DFW')\nRow(date='01140810', delay='-8', distance='137', origin='ABI', destination='DFW')\nRow(date='01141400', delay='-17', distance='137', origin='ABI', destination='DFW')\nRow(date='01150550', delay='-11', distance='137', origin='ABI', destination='DFW')\nRow(date='01150925', delay='-6', distance='137', origin='ABI', destination='DFW')\nRow(date='01151730', delay='-9', distance='137', origin='ABI', destination='DFW')\nRow(date='01150700', delay='-8', distance='137', origin='ABI', destination='DFW')\nRow(date='01151155', delay='-5', distance='137', origin='ABI', destination='DFW')\nRow(date='01150810', delay='-12', distance='137', origin='ABI', destination='DFW')\nRow(date='01151400', delay='-3', distance='137', origin='ABI', destination='DFW')\nRow(date='01160550', delay='-2', distance='137', origin='ABI', destination='DFW')\nRow(date='01160925', delay='-12', distance='137', origin='ABI', destination='DFW')\nRow(date='01161730', delay='-3', distance='137', origin='ABI', destination='DFW')\nRow(date='01160700', delay='-8', distance='137', origin='ABI', destination='DFW')\nRow(date='01161155', delay='56', distance='137', origin='ABI', destination='DFW')\nRow(date='01160810', delay='-10', distance='137', origin='ABI', destination='DFW')\nRow(date='01161400', delay='8', distance='137', origin='ABI', destination='DFW')\nRow(date='01170550', delay='-1', distance='137', origin='ABI', destination='DFW')\nRow(date='01170925', delay='-6', distance='137', origin='ABI', destination='DFW')\nRow(date='01171730', delay='-5', distance='137', origin='ABI', destination='DFW')\nRow(date='01170700', delay='-12', distance='137', origin='ABI', destination='DFW')\nRow(date='01171155', delay='18', distance='137', origin='ABI', destination='DFW')\nRow(date='01170810', delay='-11', distance='137', origin='ABI', destination='DFW')\nRow(date='01171400', delay='-7', distance='137', origin='ABI', destination='DFW')\nRow(date='01180905', delay='-7', distance='137', origin='ABI', destination='DFW')\nRow(date='01181730', delay='-9', distance='137', origin='ABI', destination='DFW')\nRow(date='01180700', delay='-10', distance='137', origin='ABI', destination='DFW')\nRow(date='01181155', delay='-11', distance='137', origin='ABI', destination='DFW')\nRow(date='01180810', delay='-13', distance='137', origin='ABI', destination='DFW')\nRow(date='01181400', delay='6', distance='137', origin='ABI', destination='DFW')\nRow(date='01190550', delay='-12', distance='137', origin='ABI', destination='DFW')\nRow(date='01190925', delay='-12', distance='137', origin='ABI', destination='DFW')\nRow(date='01191730', delay='-12', distance='137', origin='ABI', destination='DFW')\nRow(date='01190700', delay='-9', distance='137', origin='ABI', destination='DFW')\nRow(date='01191155', delay='-11', distance='137', origin='ABI', destination='DFW')\nRow(date='01190810', delay='-22', distance='137', origin='ABI', destination='DFW')\nRow(date='01191400', delay='-12', distance='137', origin='ABI', destination='DFW')\nRow(date='01200550', delay='-9', distance='137', origin='ABI', destination='DFW')\nRow(date='01200925', delay='-8', distance='137', origin='ABI', destination='DFW')\nRow(date='01201730', delay='-8', distance='137', origin='ABI', destination='DFW')\nRow(date='01200700', delay='-8', distance='137', origin='ABI', destination='DFW')\nRow(date='01201155', delay='-5', distance='137', origin='ABI', destination='DFW')\nRow(date='01200810', delay='19', distance='137', origin='ABI', destination='DFW')\nRow(date='01201400', delay='3', distance='137', origin='ABI', destination='DFW')\nRow(date='01210550', delay='-7', distance='137', origin='ABI', destination='DFW')\nRow(date='01210925', delay='29', distance='137', origin='ABI', destination='DFW')\nRow(date='01211730', delay='-9', distance='137', origin='ABI',\n\n*** WARNING: max output size exceeded, skipping output. ***\n\n67', origin='SEA', destination='PHL')\nRow(date='03131310', delay='-6', distance='1216', origin='SEA', destination='MSP')\nRow(date='03130650', delay='-5', distance='1216', origin='SEA', destination='MSP')\nRow(date='03130840', delay='-7', distance='2361', origin='SEA', destination='FLL')\nRow(date='03130750', delay='320', distance='790', origin='SEA', destination='JNU')\nRow(date='03130720', delay='117', distance='591', origin='SEA', destination='KTN')\nRow(date='03131510', delay='5', distance='591', origin='SEA', destination='KTN')\nRow(date='03131850', delay='-5', distance='591', origin='SEA', destination='KTN')\nRow(date='03131125', delay='42', distance='790', origin='SEA', destination='JNU')\nRow(date='03130600', delay='0', distance='1259', origin='SEA', destination='ANC')\nRow(date='03130805', delay='-5', distance='1259', origin='SEA', destination='ANC')\nRow(date='03131015', delay='7', distance='1259', origin='SEA', destination='ANC')\nRow(date='03131235', delay='5', distance='1259', origin='SEA', destination='ANC')\nRow(date='03131915', delay='1', distance='1259', origin='SEA', destination='ANC')\nRow(date='03131400', delay='3', distance='1259', origin='SEA', destination='ANC')\nRow(date='03131605', delay='4', distance='1259', origin='SEA', destination='ANC')\nRow(date='03132350', delay='-7', distance='1259', origin='SEA', destination='ANC')\nRow(date='03131345', delay='10', distance='1332', origin='SEA', destination='FAI')\nRow(date='03132310', delay='-3', distance='1259', origin='SEA', destination='ANC')\nRow(date='03132315', delay='-1', distance='1332', origin='SEA', destination='FAI')\nRow(date='03132010', delay='-3', distance='1332', origin='SEA', destination='FAI')\nRow(date='03130605', delay='-6', distance='605', origin='SEA', destination='SJC')\nRow(date='03130715', delay='2', distance='590', origin='SEA', destination='SFO')\nRow(date='03132015', delay='3', distance='605', origin='SEA', destination='SJC')\nRow(date='03130950', delay='-2', distance='913', origin='SEA', destination='SAN')\nRow(date='03130710', delay='4', distance='913', origin='SEA', destination='SAN')\nRow(date='03132043', delay='48', distance='590', origin='SEA', destination='SFO')\nRow(date='03131830', delay='10', distance='590', origin='SEA', destination='SFO')\nRow(date='03131200', delay='-2', distance='590', origin='SEA', destination='SFO')\nRow(date='03131050', delay='-5', distance='590', origin='SEA', destination='SFO')\nRow(date='03130617', delay='3', distance='590', origin='SEA', destination='SFO')\nRow(date='03131430', delay='-5', distance='590', origin='SEA', destination='SFO')\nRow(date='03130950', delay='-6', distance='590', origin='SEA', destination='SFO')\nRow(date='03131555', delay='-2', distance='605', origin='SEA', destination='SJC')\nRow(date='03131255', delay='0', distance='605', origin='SEA', destination='SJC')\nRow(date='03131845', delay='-3', distance='605', origin='SEA', destination='SJC')\nRow(date='03130710', delay='-6', distance='605', origin='SEA', destination='SJC')\nRow(date='03130610', delay='-7', distance='583', origin='SEA', destination='OAK')\nRow(date='03131000', delay='1', distance='583', origin='SEA', destination='OAK')\nRow(date='03131600', delay='5', distance='583', origin='SEA', destination='OAK')\nRow(date='03132125', delay='-2', distance='583', origin='SEA', destination='OAK')\nRow(date='03131345', delay='-2', distance='526', origin='SEA', destination='SMF')\nRow(date='03131855', delay='-5', distance='526', origin='SEA', destination='SMF')\nRow(date='03132140', delay='-2', distance='526', origin='SEA', destination='SMF')\nRow(date='03131650', delay='-6', distance='829', origin='SEA', destination='LAX')\nRow(date='03132155', delay='7', distance='829', origin='SEA', destination='LAX')\nRow(date='03131025', delay='-3', distance='829', origin='SEA', destination='LAX')\nRow(date='03130617', delay='-1', distance='829', origin='SEA', destination='LAX')\nRow(date='03131935', delay='73', distance='829', origin='SEA', destination='LAX')\nRow(date='03130815', delay='-3', distance='829', origin='SEA', destination='LAX')\nRow(date='03131835', delay='11', distance='829', origin='SEA', destination='LAX')\nRow(date='03130705', delay='2', distance='829', origin='SEA', destination='LAX')\nRow(date='03132105', delay='-9', distance='829', origin='SEA', destination='LAX')\nRow(date='03131430', delay='64', distance='829', origin='SEA', destination='LAX')\nRow(date='03130610', delay='0', distance='913', origin='SEA', destination='SAN')\nRow(date='03132035', delay='-4', distance='829', origin='SEA', destination='LAX')\nRow(date='03130720', delay='-4', distance='829', origin='SEA', destination='LAX')\nRow(date='03132043', delay='-3', distance='913', origin='SEA', destination='SAN')\nRow(date='03131115', delay='-4', distance='913', origin='SEA', destination='SAN')\nRow(date='03131240', delay='-5', distance='913', origin='SEA', destination='SAN')\nRow(date='03131440', delay='1', distance='913', origin='SEA', destination='SAN')\nRow(date='03131855', delay='-7', distance='913', origin='SEA', destination='SAN')\nRow(date='03130900', delay='2', distance='850', origin='SEA', destination='SNA')\nRow(date='03130600', delay='-3', distance='850', origin='SEA', destination='SNA')\nRow(date='03131205', delay='-4', distance='850', origin='SEA', destination='SNA')\nRow(date='03131845', delay='-1', distance='850', origin='SEA', destination='SNA')\nRow(date='03131400', delay='-1', distance='850', origin='SEA', destination='SNA')\nRow(date='03131655', delay='-4', distance='850', origin='SEA', destination='SNA')\nRow(date='03131945', delay='-3', distance='850', origin='SEA', destination='SNA')\nRow(date='03131505', delay='-8', distance='814', origin='SEA', destination='BUR')\nRow(date='03130755', delay='-6', distance='814', origin='SEA', destination='BUR')\nRow(date='03131938', delay='-1', distance='814', origin='SEA', destination='BUR')\nRow(date='03130725', delay='174', distance='831', origin='SEA', destination='ONT')\nRow(date='03132055', delay='3', distance='831', origin='SEA', destination='ONT')\nRow(date='03131405', delay='-7', distance='831', origin='SEA', destination='ONT')\nRow(date='03130645', delay='1', distance='858', origin='SEA', destination='PSP')\nRow(date='03131300', delay='-1', distance='858', origin='SEA', destination='PSP')\nRow(date='03130915', delay='17', distance='858', origin='SEA', destination='PSP')\nRow(date='03130815', delay='-1', distance='753', origin='SEA', destination='LAS')\nRow(date='03130935', delay='-5', distance='753', origin='SEA', destination='LAS')\nRow(date='03130605', delay='-2', distance='753', origin='SEA', destination='LAS')\nRow(date='03131410', delay='26', distance='753', origin='SEA', destination='LAS')\nRow(date='03130705', delay='-10', distance='753', origin='SEA', destination='LAS')\nRow(date='03131205', delay='15', distance='753', origin='SEA', destination='LAS')\nRow(date='03132040', delay='-2', distance='753', origin='SEA', destination='LAS')\nRow(date='03131835', delay='11', distance='753', origin='SEA', destination='LAS')\nRow(date='03131850', delay='10', distance='962', origin='SEA', destination='PHX')\nRow(date='03130600', delay='-2', distance='962', origin='SEA', destination='PHX')\nRow(date='03130750', delay='-2', distance='962', origin='SEA', destination='PHX')\nRow(date='03132040', delay='-3', distance='962', origin='SEA', destination='PHX')\nRow(date='03131505', delay='20', distance='962', origin='SEA', destination='PHX')\nRow(date='03131015', delay='-1', distance='962', origin='SEA', destination='PHX')\nRow(date='03131217', delay='10', distance='1057', origin='SEA', destination='TUS')\nRow(date='03130650', delay='0', distance='1442', origin='SEA', destination='DFW')\nRow(date='03131310', delay='33', distance='1442', origin='SEA', destination='DFW')\nRow(date='03131135', delay='-8', distance='1538', origin='SEA', destination='AUS')\nRow(date='03131025', delay='-3', distance='890', origin='SEA', destination='DEN')\nRow(date='03131405', delay='154', distance='890', origin='SEA', destination='DEN')\nRow(date='03130657', delay='-4', distance='890', origin='SEA', destination='DEN')\nRow(date='03131905', delay='-1', distance='890', origin='SEA', destination='DEN')\nRow(date='03131150', delay='-2', distance='194', origin='SEA', destination='GEG')\nRow(date='03131240', delay='-6', distance='1542', origin='SEA', destination='SAT')\nRow(date='03132010', delay='-8', distance='194', origin='SEA', destination='GEG')\nRow(date='03132300', delay='4', distance='194', origin='SEA', destination='GEG')\nRow(date='03130700', delay='-5', distance='598', origin='SEA', destination='SLC')\nRow(date='03131300', delay='22', distance='598', origin='SEA', destination='SLC')\nRow(date='03131020', delay='0', distance='1628', origin='SEA', destination='IAH')\nRow(date='03132115', delay='-2', distance='1259', origin='SEA', destination='ANC')\nRow(date='03130810', delay='1', distance='1896', origin='SEA', destination='ATL')\nRow(date='03131150', delay='-1', distance='1485', origin='SEA', destination='STL')\nRow(date='03131030', delay='-4', distance='1294', origin='SEA', destination='MCI')\nRow(date='03130725', delay='-4', distance='526', origin='SEA', destination='SMF')\nRow(date='03131830', delay='2', distance='2347', origin='SEA', destination='LIH')\nRow(date='03131015', delay='-5', distance='2336', origin='SEA', destination='KOA')\nRow(date='03131035', delay='-4', distance='2326', origin='SEA', destination='HNL')\nRow(date='03131735', delay='12', distance='2326', origin='SEA', destination='HNL')\nRow(date='03130830', delay='-6', distance='2294', origin='SEA', destination='OGG')\nRow(date='03131640', delay='-9', distance='2294', origin='SEA', destination='OGG')\nRow(date='03130900', delay='37', distance='2347', origin='SEA', destination='LIH')\nRow(date='03131930', delay='70', distance='2326', origin='SEA', destination='HNL')\nRow(date='03141415', delay='12', distance='2023', origin='SEA', destination='DCA')\nRow(date='03140815', delay='0', distance='2023', origin='SEA', destination='DCA')\nRow(date='03140905', delay='26', distance='2087', origin='SEA', destination='EWR')\nRow(date='03142152', delay='30', distance='2219', origin='SEA', destination='MCO')\nRow(date='03140950', delay='-4', distance='2169', origin='SEA', destination='BOS')\nRow(date='03141530', delay='131', distance='2087', origin='SEA', destination='EWR')\nRow(date='03140800', delay='-2', distance='2219', origin='SEA', destination='MCO')\nRow(date='03141245', delay='4', distance='1495', origin='SEA', destination='ORD')\nRow(date='03142220', delay='29', distance='2169', origin='SEA', destination='BOS')\nRow(date='03141805', delay='3', distance='1495', origin='SEA', destination='ORD')\nRow(date='03140830', delay='-2', distance='1495', origin='SEA', destination='ORD')\nRow(date='03140835', delay='-1', distance='2067', origin='SEA', destination='PHL')\nRow(date='03141310', delay='8', distance='1216', origin='SEA', destination='MSP')\nRow(date='03140650', delay='0', distance='1216', origin='SEA', destination='MSP')\nRow(date='03140840', delay='20', distance='2361', origin='SEA', destination='FLL')\nRow(date='03140750', delay='5', distance='790', origin='SEA', destination='JNU')\nRow(date='03140720', delay='-5', distance='591', origin='SEA', destination='KTN')\nRow(date='03141510', delay='1', distance='591', origin='SEA', destination='KTN')\nRow(date='03141850', delay='7', distance='591', origin='SEA', destination='KTN')\nRow(date='03141125', delay='-4', distance='790', origin='SEA', destination='JNU')\nRow(date='03140600', delay='0', distance='1259', origin='SEA', destination='ANC')\nRow(date='03140805', delay='17', distance='1259', origin='SEA', destination='ANC')\nRow(date='03141015', delay='-1', distance='1259', origin='SEA', destination='ANC')\nRow(date='03141235', delay='-4', distance='1259', origin='SEA', destination='ANC')\nRow(date='03141915', delay='14', distance='1259', origin='SEA', destination='ANC')\nRow(date='03141400', delay='0', distance='1259', origin='SEA', destination='ANC')\nRow(date='03141605', delay='34', distance='1259', origin='SEA', destination='ANC')\nRow(date='03142350', delay='-6', distance='1259', origin='SEA', destination='ANC')\nRow(date='03141345', delay='5', distance='1332', origin='SEA', destination='FAI')\nRow(date='03142310', delay='-4', distance='1259', origin='SEA', destination='ANC')\nRow(date='03142315', delay='-2', distance='1332', origin='SEA', destination='FAI')\nRow(date='03142010', delay='98', distance='1332', origin='SEA', destination='FAI')\nRow(date='03140605', delay='-4', distance='605', origin='SEA', destination='SJC')\nRow(date='03140715', delay='1', distance='590', origin='SEA', destination='SFO')\nRow(date='03142015', delay='15', distance='605', origin='SEA', destination='SJC')\nRow(date='03140950', delay='-5', distance='913', origin='SEA', destination='SAN')\nRow(date='03140710', delay='-2', distance='913', origin='SEA', destination='SAN')\nRow(date='03140600', delay='2', distance='605', origin='SEA', destination='SJC')\nRow(date='03142043', delay='101', distance='590', origin='SEA', destination='SFO')\nRow(date='03141830', delay='-3', distance='590', origin='SEA', destination='SFO')\nRow(date='03141200', delay='5', distance='590', origin='SEA', destination='SFO')\nRow(date='03141050', delay='53', distance='590', origin='SEA', destination='SFO')\nRow(date='03140617', delay='-2', distance='590', origin='SEA', destination='SFO')\nRow(date='03141430', delay='65', distance='590', origin='SEA', destination='SFO')\nRow(date='03140950', delay='35', distance='590', origin='SEA', destination='SFO')\nRow(date='03141555', delay='-7', distance='605', origin='SEA', destination='SJC')\nRow(date='03141255', delay='26', distance='605', origin='SEA', destination='SJC')\nRow(date='03141845', delay='23', distance='605', origin='SEA', destination='SJC')\nRow(date='03140710', delay='-4', distance='605', origin='SEA', destination='SJC')\nRow(date='03140610', delay='-2', distance='583', origin='SEA', destination='OAK')\nRow(date='03141000', delay='2', distance='583', origin='SEA', destination='OAK')\nRow(date='03141600', delay='0', distance='583', origin='SEA', destination='OAK')\nRow(date='03142125', delay='-5', distance='583', origin='SEA', destination='OAK')\nRow(date='03141345', delay='0', distance='526', origin='SEA', destination='SMF')\nRow(date='03141855', delay='39', distance='526', origin='SEA', destination='SMF')\nRow(date='03142140', delay='0', distance='526', origin='SEA', destination='SMF')\nRow(date='03141650', delay='197', distance='829', origin='SEA', destination='LAX')\nRow(date='03142155', delay='12', distance='829', origin='SEA', destination='LAX')\nRow(date='03141025', delay='-1', distance='829', origin='SEA', destination='LAX')\nRow(date='03140617', delay='-2', distance='829', origin='SEA', destination='LAX')\nRow(date='03141935', delay='32', distance='829', origin='SEA', destination='LAX')\nRow(date='03140815', delay='1', distance='829', origin='SEA', destination='LAX')\nRow(date='03141835', delay='0', distance='829', origin='SEA', destination='LAX')\nRow(date='03140705', delay='-2', distance='829', origin='SEA', destination='LAX')\nRow(date='03142105', delay='13', distance='829', origin='SEA', destination='LAX')\nRow(date='03141430', delay='-1', distance='829', origin='SEA', destination='LAX')\nRow(date='03140610', delay='-3', distance='913', origin='SEA', destination='SAN')\nRow(date='03142035', delay='40', distance='829', origin='SEA', destination='LAX')\nRow(date='03140720', delay='0', distance='829', origin='SEA', destination='LAX')\nRow(date='03142043', delay='52', distance='913', origin='SEA', destination='SAN')\nRow(date='03141115', delay='-4', distance='913', origin='SEA', destination='SAN')\nRow(date='03141240', delay='-4', distance='913', origin='SEA', destination='SAN')\nRow(date='03141855', delay='9', distance='913', origin='SEA', destination='SAN')\nRow(date='03140900', delay='0', distance='850', origin='SEA', destination='SNA')\nRow(date='03140600', delay='-5', distance='850', origin='SEA', destination='SNA')\nRow(date='03141205', delay='-3', distance='850', origin='SEA', destination='SNA')\nRow(date='03141845', delay='6', distance='850', origin='SEA', destination='SNA')\nRow(date='03141400', delay='-4', distance='850', origin='SEA', destination='SNA')\nRow(date='03141655', delay='-1', distance='850', origin='SEA', destination='SNA')\nRow(date='03141945', delay='-5', distance='850', origin='SEA', destination='SNA')\nRow(date='03141505', delay='5', distance='814', origin='SEA', destination='BUR')\nRow(date='03140755', delay='-1', distance='814', origin='SEA', destination='BUR')\nRow(date='03141938', delay='-4', distance='814', origin='SEA', destination='BUR')\nRow(date='03140725', delay='0', distance='831', origin='SEA', destination='ONT')\nRow(date='03142055', delay='96', distance='831', origin='SEA', destination='ONT')\nRow(date='03141405', delay='88', distance='831', origin='SEA', destination='ONT')\nRow(date='03140645', delay='0', distance='858', origin='SEA', destination='PSP')\nRow(date='03141300', delay='-5', distance='858', origin='SEA', destination='PSP')\nRow(date='03140915', delay='-1', distance='858', origin='SEA', destination='PSP')\nRow(date='03140815', delay='-2', distance='753', origin='SEA', destination='LAS')\nRow(date='03140935', delay='-3', distance='753', origin='SEA', destination='LAS')\nRow(date='03140605', delay='-3', distance='753', origin='SEA', destination='LAS')\nRow(date='03141410', delay='102', distance='753', origin='SEA', destination='LAS')\nRow(date='03140705', delay='-2', distance='753', origin='SEA', destination='LAS')\nRow(date='03141205', delay='-4', distance='753', origin='SEA', destination='LAS')\nRow(date='03142040', delay='2', distance='753', origin='SEA', destination='LAS')\nRow(date='03141835', delay='88', distance='753', origin='SEA', destination='LAS')\nRow(date='03141850', delay='-2', distance='962', origin='SEA', destination='PHX')\nRow(date='03140600', delay='-1', distance='962', origin='SEA', destination='PHX')\nRow(date='03140750', delay='-1', distance='962', origin='SEA', destination='PHX')\nRow(date='03142040', delay='57', distance='962', origin='SEA', destination='PHX')\nRow(date='03141505', delay='9', distance='962', origin='SEA', destination='PHX')\nRow(date='03141015', delay='0', distance='962', origin='SEA', destination='PHX')\nRow(date='03141217', delay='24', distance='1057', origin='SEA', destination='TUS')\nRow(date='03140650', delay='3', distance='1442', origin='SEA', destination='DFW')\nRow(date='03141310', delay='1', distance='1442', origin='SEA', destination='DFW')\nRow(date='03141135', delay='-4', distance='1538', origin='SEA', destination='AUS')\nRow(date='03141025', delay='-4', distance='890', origin='SEA', destination='DEN')\nRow(date='03141405', delay='4', distance='890', origin='SEA', destination='DEN')\nRow(date='03140657', delay='1', distance='890', origin='SEA', destination='DEN')\nRow(date='03141905', delay='-5', distance='890', origin='SEA', destination='DEN')\nRow(date='03141150', delay='-4', distance='194', origin='SEA', destination='GEG')\nRow(date='03141240', delay='34', distance='1542', origin='SEA', destination='SAT')\nRow(date='03142010', delay='-3', distance='194', origin='SEA', destination='GEG')\nRow(date='03142300', delay='-1', distance='194', origin='SEA', destination='GEG')\nRow(date='03140700', delay='1', distance='598', origin='SEA', destination='SLC')\nRow(date='03141300', delay='-2', distance='598', origin='SEA', destination='SLC')\nRow(date='03141020', delay='-1', distance='1628', origin='SEA', destination='IAH')\nRow(date='03142115', delay='4', distance='1259', origin='SEA', destination='ANC')\nRow(date='03140810', delay='1', distance='1896', origin='SEA', destination='ATL')\nRow(date='03141150', delay='-2', distance='1485', origin='SEA', destination='STL')\nRow(date='03141030', delay='3', distance='1294', origin='SEA', destination='MCI')\nRow(date='03140725', delay='-5', distance='526', origin='SEA', destination='SMF')\nRow(date='03141015', delay='3', distance='2336', origin='SEA', destination='KOA')\nRow(date='03141035', delay='295', distance='2326', origin='SEA', destination='HNL')\nRow(date='03141735', delay='-4', distance='2326', origin='SEA', destination='HNL')\nRow(date='03140830', delay='7', distance='2294', origin='SEA', destination='OGG')\nRow(date='03141640', delay='35', distance='2294', origin='SEA', destination='OGG')\nRow(date='03140900', delay='9', distance='2347', origin='SEA', destination='LIH')\nRow(date='03141820', delay='17', distance='2336', origin='SEA', destination='KOA')\nRow(date='03141930', delay='128', distance='2326', origin='SEA', destination='HNL')\nRow(date='03151415', delay='44', distance='2023', origin='SEA', destination='DCA')\nRow(date='03150815', delay='-4', distance='2023', origin='SEA', destination='DCA')\nRow(date='03150905', delay='17', distance='2087', origin='SEA', destination='EWR')\nRow(date='03152152', delay='2', distance='2219', origin='SEA', destination='MCO')\nRow(date='03150950', delay='0', distance='2169', origin='SEA', destination='BOS')\nRow(date='03150800', delay='2', distance='2219', origin='SEA', destination='MCO')\nRow(date='03152220', delay='-5', distance='2169', origin='SEA', destination='BOS')\nRow(date='03151805', delay='66', distance='1495', origin='SEA', destination='ORD')\nRow(date='03150830', delay='6', distance='1495', origin='SEA', destination='ORD')\nRow(date='03150835', delay='-1', distance='2067', origin='SEA', destination='PHL')\nRow(date='03151310', delay='-6', distance='1216', origin='SEA', destination='MSP')\nRow(date='03150650', delay='15', distance='1216', origin='SEA', destination='MSP')\nRow(date='03150840', delay='-4', distance='2361', origin='SEA', destination='FLL')\nRow(date='03150750', delay='0', distance='790', origin='SEA', destination='JNU')\nRow(date='03150720', delay='-2', distance='591', origin='SEA', destination='KTN')\nRow(date='03151510', delay='8', distance='591', origin='SEA', destination='KTN')\nRow(date='03151850', delay='-3', distance='591', origin='SEA', destination='KTN')\nRow(date='03151125', delay='-5', distance='790', origin='SEA', destination='JNU')\nRow(date='03150600', delay='-1', distance='1259', origin='SEA', destination='ANC')\nRow(date='03150805', delay='10', distance='1259', origin='SEA', destination='ANC')\nRow(date='03151015', delay='-3', distance='1259', origin='SEA', destination='ANC')\nRow(date='03151235', delay='10', distance='1259', origin='SEA', destination='ANC')\nRow(date='03151915', delay='0', distance='1259', origin='SEA', destination='ANC')\nRow(date='03151400', delay='-6', distance='1259', origin='SEA', destination='ANC')\nRow(date='03151605', delay='42', distance='1259', origin='SEA', destination='ANC')\nRow(date='03152350', delay='-7', distance='1259', origin='SEA', destination='ANC')\nRow(date='03151345', delay='92', distance='1332', origin='SEA', destination='FAI')\nRow(date='03152310', delay='27', distance='1259', origin='SEA', destination='ANC')\nRow(date='03152315', delay='-1', distance='1332', origin='SEA', destination='FAI')\nRow(date='03152010', delay='31', distance='1332', origin='SEA', destination='FAI')\nRow(date='03150605', delay='2', distance='605', origin='SEA', destination='SJC')\nRow(date='03150715', delay='-1', distance='590', origin='SEA', destination='SFO')\nRow(date='03152015', delay='0', distance='605', origin='SEA', destination='SJC')\nRow(date='03150950', delay='-5', distance='913', origin='SEA', destination='SAN')\nRow(date='03150710', delay='4', distance='913', origin='SEA', destination='SAN')\nRow(date='03152043', delay='-8', distance='590', origin='SEA', destination='SFO')\nRow(date='03151830', delay='-6', distance='590', origin='SEA', destination='SFO')\nRow(date='03151200', delay='-1', distance='590', origin='SEA', destination='SFO')\nRow(date='03151050', delay='-2', distance='590', origin='SEA', destination='SFO')\nRow(date='03151430', delay='-3', distance='590', origin='SEA', destination='SFO')\nRow(date='03150950', delay='-1', distance='590', origin='SEA', destination='SFO')\nRow(date='03151255', delay='-4', distance='605', origin='SEA', destination='SJC')\nRow(date='03151845', delay='-5', distance='605', origin='SEA', destination='SJC')\nRow(date='03150710', delay='-3', distance='605', origin='SEA', destination='SJC')\nRow(date='03150610', delay='0', distance='583', origin='SEA', destination='OAK')\nRow(date='03151000', delay='-1', distance='583', origin='SEA', destination='OAK')\nRow(date='03151600', delay='30', distance='583', origin='SEA', destination='OAK')\nRow(date='03152125', delay='-5', distance='583', origin='SEA', destination='OAK')\nRow(date='03151345', delay='-6', distance='526', origin='SEA', destination='SMF')\nRow(date='03151855', delay='-4', distance='526', origin='SEA', destination='SMF')\nRow(date='03152140', delay='-3', distance='526', origin='SEA', destination='SMF')\nRow(date='03151650', delay='-4', distance='829', origin='SEA', destination='LAX')\nRow(date='03151025', delay='1', distance='829', origin='SEA', destination='LAX')\nRow(date='03150617', delay='4', distance='829', origin='SEA', destination='LAX')\n",
       "datasetInfos": [],
       "metadata": {},
       "removedWidgets": [],
       "type": "ansi"
      }
     },
     "output_type": "display_data"
    },
    {
     "data": {
      "text/html": [
       "<style scoped>\n",
       "  .ansiout {\n",
       "    display: block;\n",
       "    unicode-bidi: embed;\n",
       "    white-space: pre-wrap;\n",
       "    word-wrap: break-word;\n",
       "    word-break: break-all;\n",
       "    font-family: \"Source Code Pro\", \"Menlo\", monospace;;\n",
       "    font-size: 13px;\n",
       "    color: #555;\n",
       "    margin-left: 4px;\n",
       "    line-height: 19px;\n",
       "  }\n",
       "</style>"
      ]
     },
     "metadata": {
      "application/vnd.databricks.v1+output": {
       "arguments": {},
       "data": "",
       "errorSummary": "Cancelled",
       "errorTraceType": "html",
       "metadata": {},
       "type": "ipynbError"
      }
     },
     "output_type": "display_data"
    }
   ],
   "source": [
    "for i in df.collect():\n",
    "    print(i)"
   ]
  },
  {
   "cell_type": "code",
   "execution_count": 0,
   "metadata": {
    "application/vnd.databricks.v1+cell": {
     "inputWidgets": {},
     "nuid": "9210fd38-f5e0-45ec-83d5-c103e37fa195",
     "showTitle": false,
     "title": ""
    },
    "pycharm": {
     "name": "#%%\n"
    }
   },
   "outputs": [
    {
     "data": {
      "text/plain": [
       "+--------+-----+--------+------+-----------+-----------+\n",
       "|    date|delay|distance|origin|destination|nova coluna|\n",
       "+--------+-----+--------+------+-----------+-----------+\n",
       "|01011245|    6|     602|   ABE|        ATL|        8.0|\n",
       "|01020600|   -8|     369|   ABE|        DTW|       -6.0|\n",
       "|01021245|   -2|     602|   ABE|        ATL|        0.0|\n",
       "|01020605|   -4|     602|   ABE|        ATL|       -2.0|\n",
       "|01031245|   -4|     602|   ABE|        ATL|       -2.0|\n",
       "|01030605|    0|     602|   ABE|        ATL|        2.0|\n",
       "|01041243|   10|     602|   ABE|        ATL|       12.0|\n",
       "|01040605|   28|     602|   ABE|        ATL|       30.0|\n",
       "|01051245|   88|     602|   ABE|        ATL|       90.0|\n",
       "|01050605|    9|     602|   ABE|        ATL|       11.0|\n",
       "+--------+-----+--------+------+-----------+-----------+\n",
       "only showing top 10 rows\n",
       "\n"
      ]
     },
     "metadata": {
      "application/vnd.databricks.v1+output": {
       "addedWidgets": {},
       "arguments": {},
       "data": "+--------+-----+--------+------+-----------+-----------+\n|    date|delay|distance|origin|destination|nova coluna|\n+--------+-----+--------+------+-----------+-----------+\n|01011245|    6|     602|   ABE|        ATL|        8.0|\n|01020600|   -8|     369|   ABE|        DTW|       -6.0|\n|01021245|   -2|     602|   ABE|        ATL|        0.0|\n|01020605|   -4|     602|   ABE|        ATL|       -2.0|\n|01031245|   -4|     602|   ABE|        ATL|       -2.0|\n|01030605|    0|     602|   ABE|        ATL|        2.0|\n|01041243|   10|     602|   ABE|        ATL|       12.0|\n|01040605|   28|     602|   ABE|        ATL|       30.0|\n|01051245|   88|     602|   ABE|        ATL|       90.0|\n|01050605|    9|     602|   ABE|        ATL|       11.0|\n+--------+-----+--------+------+-----------+-----------+\nonly showing top 10 rows\n\n",
       "datasetInfos": [],
       "metadata": {},
       "removedWidgets": [],
       "type": "ansi"
      }
     },
     "output_type": "display_data"
    }
   ],
   "source": [
    "df = df.withColumn('nova coluna', df['delay']+2)\n",
    "df.show(10)"
   ]
  },
  {
   "cell_type": "code",
   "execution_count": 0,
   "metadata": {
    "application/vnd.databricks.v1+cell": {
     "inputWidgets": {},
     "nuid": "ed145728-c722-4574-b806-ecd5a5200733",
     "showTitle": false,
     "title": ""
    },
    "pycharm": {
     "name": "#%%\n"
    }
   },
   "outputs": [],
   "source": [
    "df = df.drop('nova coluna')"
   ]
  },
  {
   "cell_type": "code",
   "execution_count": 0,
   "metadata": {
    "application/vnd.databricks.v1+cell": {
     "inputWidgets": {},
     "nuid": "4c07ef4f-f7f2-4a73-9444-ddde986fd9e9",
     "showTitle": false,
     "title": ""
    },
    "pycharm": {
     "name": "#%%\n"
    }
   },
   "outputs": [
    {
     "data": {
      "text/plain": [
       "+--------+-----+--------+------+-----------+----------+\n",
       "|    date|delay|distance|origin|destination|New column|\n",
       "+--------+-----+--------+------+-----------+----------+\n",
       "|01011245|    6|     602|   ABE|        ATL|       8.0|\n",
       "|01020600|   -8|     369|   ABE|        DTW|      -6.0|\n",
       "|01021245|   -2|     602|   ABE|        ATL|       0.0|\n",
       "|01020605|   -4|     602|   ABE|        ATL|      -2.0|\n",
       "|01031245|   -4|     602|   ABE|        ATL|      -2.0|\n",
       "|01030605|    0|     602|   ABE|        ATL|       2.0|\n",
       "|01041243|   10|     602|   ABE|        ATL|      12.0|\n",
       "|01040605|   28|     602|   ABE|        ATL|      30.0|\n",
       "|01051245|   88|     602|   ABE|        ATL|      90.0|\n",
       "|01050605|    9|     602|   ABE|        ATL|      11.0|\n",
       "|01061215|   -6|     602|   ABE|        ATL|      -4.0|\n",
       "|01061725|   69|     602|   ABE|        ATL|      71.0|\n",
       "|01061230|    0|     369|   ABE|        DTW|       2.0|\n",
       "|01060625|   -3|     602|   ABE|        ATL|      -1.0|\n",
       "|01070600|    0|     369|   ABE|        DTW|       2.0|\n",
       "|01071725|    0|     602|   ABE|        ATL|       2.0|\n",
       "|01071230|    0|     369|   ABE|        DTW|       2.0|\n",
       "|01070625|    0|     602|   ABE|        ATL|       2.0|\n",
       "|01071219|    0|     569|   ABE|        ORD|       2.0|\n",
       "|01080600|    0|     369|   ABE|        DTW|       2.0|\n",
       "+--------+-----+--------+------+-----------+----------+\n",
       "only showing top 20 rows\n",
       "\n"
      ]
     },
     "metadata": {
      "application/vnd.databricks.v1+output": {
       "addedWidgets": {},
       "arguments": {},
       "data": "+--------+-----+--------+------+-----------+----------+\n|    date|delay|distance|origin|destination|New column|\n+--------+-----+--------+------+-----------+----------+\n|01011245|    6|     602|   ABE|        ATL|       8.0|\n|01020600|   -8|     369|   ABE|        DTW|      -6.0|\n|01021245|   -2|     602|   ABE|        ATL|       0.0|\n|01020605|   -4|     602|   ABE|        ATL|      -2.0|\n|01031245|   -4|     602|   ABE|        ATL|      -2.0|\n|01030605|    0|     602|   ABE|        ATL|       2.0|\n|01041243|   10|     602|   ABE|        ATL|      12.0|\n|01040605|   28|     602|   ABE|        ATL|      30.0|\n|01051245|   88|     602|   ABE|        ATL|      90.0|\n|01050605|    9|     602|   ABE|        ATL|      11.0|\n|01061215|   -6|     602|   ABE|        ATL|      -4.0|\n|01061725|   69|     602|   ABE|        ATL|      71.0|\n|01061230|    0|     369|   ABE|        DTW|       2.0|\n|01060625|   -3|     602|   ABE|        ATL|      -1.0|\n|01070600|    0|     369|   ABE|        DTW|       2.0|\n|01071725|    0|     602|   ABE|        ATL|       2.0|\n|01071230|    0|     369|   ABE|        DTW|       2.0|\n|01070625|    0|     602|   ABE|        ATL|       2.0|\n|01071219|    0|     569|   ABE|        ORD|       2.0|\n|01080600|    0|     369|   ABE|        DTW|       2.0|\n+--------+-----+--------+------+-----------+----------+\nonly showing top 20 rows\n\n",
       "datasetInfos": [],
       "metadata": {},
       "removedWidgets": [],
       "type": "ansi"
      }
     },
     "output_type": "display_data"
    }
   ],
   "source": [
    "df = df.withColumn('nova coluna', df['delay']+2)\n",
    "df.withColumnRenamed('nova coluna', 'New column').show()"
   ]
  },
  {
   "cell_type": "code",
   "execution_count": 0,
   "metadata": {
    "application/vnd.databricks.v1+cell": {
     "inputWidgets": {},
     "nuid": "2f0b211b-a02e-4f16-9eb5-e4c89f1a9eae",
     "showTitle": false,
     "title": ""
    },
    "pycharm": {
     "name": "#%%\n"
    }
   },
   "outputs": [
    {
     "data": {
      "text/plain": [
       "+--------------------+-----+--------+------+-----------+-----------+\n",
       "|                date|delay|distance|origin|destination|nova coluna|\n",
       "+--------------------+-----+--------+------+-----------+-----------+\n",
       "|Abbotsford\\tBC\\tC...| null|    null|  null|       null|       null|\n",
       "|Aberdeen\\tSD\\tUSA...| null|    null|  null|       null|       null|\n",
       "|Abilene\\tTX\\tUSA\\...| null|    null|  null|       null|       null|\n",
       "| Akron\\tOH\\tUSA\\tCAK| null|    null|  null|       null|       null|\n",
       "|Alamosa\\tCO\\tUSA\\...| null|    null|  null|       null|       null|\n",
       "|Albany\\tGA\\tUSA\\tABY| null|    null|  null|       null|       null|\n",
       "|Albany\\tNY\\tUSA\\tALB| null|    null|  null|       null|       null|\n",
       "|Albuquerque\\tNM\\t...| null|    null|  null|       null|       null|\n",
       "|Alexandria\\tLA\\tU...| null|    null|  null|       null|       null|\n",
       "|Allentown\\tPA\\tUS...| null|    null|  null|       null|       null|\n",
       "|Alliance\\tNE\\tUSA...| null|    null|  null|       null|       null|\n",
       "|Alpena\\tMI\\tUSA\\tAPN| null|    null|  null|       null|       null|\n",
       "|Altoona\\tPA\\tUSA\\...| null|    null|  null|       null|       null|\n",
       "|Amarillo\\tTX\\tUSA...| null|    null|  null|       null|       null|\n",
       "|Anahim Lake\\tBC\\t...| null|    null|  null|       null|       null|\n",
       "|Anchorage\\tAK\\tUS...| null|    null|  null|       null|       null|\n",
       "|Appleton\\tWI\\tUSA...| null|    null|  null|       null|       null|\n",
       "|Arviat\\tNWT\\tCana...| null|    null|  null|       null|       null|\n",
       "|Asheville\\tNC\\tUS...| null|    null|  null|       null|       null|\n",
       "| Aspen\\tCO\\tUSA\\tASE| null|    null|  null|       null|       null|\n",
       "+--------------------+-----+--------+------+-----------+-----------+\n",
       "only showing top 20 rows\n",
       "\n"
      ]
     },
     "metadata": {
      "application/vnd.databricks.v1+output": {
       "addedWidgets": {},
       "arguments": {},
       "data": "+--------------------+-----+--------+------+-----------+-----------+\n|                date|delay|distance|origin|destination|nova coluna|\n+--------------------+-----+--------+------+-----------+-----------+\n|Abbotsford\\tBC\\tC...| null|    null|  null|       null|       null|\n|Aberdeen\\tSD\\tUSA...| null|    null|  null|       null|       null|\n|Abilene\\tTX\\tUSA\\...| null|    null|  null|       null|       null|\n| Akron\\tOH\\tUSA\\tCAK| null|    null|  null|       null|       null|\n|Alamosa\\tCO\\tUSA\\...| null|    null|  null|       null|       null|\n|Albany\\tGA\\tUSA\\tABY| null|    null|  null|       null|       null|\n|Albany\\tNY\\tUSA\\tALB| null|    null|  null|       null|       null|\n|Albuquerque\\tNM\\t...| null|    null|  null|       null|       null|\n|Alexandria\\tLA\\tU...| null|    null|  null|       null|       null|\n|Allentown\\tPA\\tUS...| null|    null|  null|       null|       null|\n|Alliance\\tNE\\tUSA...| null|    null|  null|       null|       null|\n|Alpena\\tMI\\tUSA\\tAPN| null|    null|  null|       null|       null|\n|Altoona\\tPA\\tUSA\\...| null|    null|  null|       null|       null|\n|Amarillo\\tTX\\tUSA...| null|    null|  null|       null|       null|\n|Anahim Lake\\tBC\\t...| null|    null|  null|       null|       null|\n|Anchorage\\tAK\\tUS...| null|    null|  null|       null|       null|\n|Appleton\\tWI\\tUSA...| null|    null|  null|       null|       null|\n|Arviat\\tNWT\\tCana...| null|    null|  null|       null|       null|\n|Asheville\\tNC\\tUS...| null|    null|  null|       null|       null|\n| Aspen\\tCO\\tUSA\\tASE| null|    null|  null|       null|       null|\n+--------------------+-----+--------+------+-----------+-----------+\nonly showing top 20 rows\n\n",
       "datasetInfos": [],
       "metadata": {},
       "removedWidgets": [],
       "type": "ansi"
      }
     },
     "output_type": "display_data"
    }
   ],
   "source": [
    "df.filter(\"delay is NULL\").show()"
   ]
  },
  {
   "cell_type": "code",
   "execution_count": 0,
   "metadata": {
    "application/vnd.databricks.v1+cell": {
     "inputWidgets": {},
     "nuid": "de2e0550-b016-4bb7-b40b-ccf36f06ffb4",
     "showTitle": false,
     "title": ""
    },
    "pycharm": {
     "name": "#%%\n"
    }
   },
   "outputs": [
    {
     "data": {
      "text/plain": [
       "+--------+-----+--------+------+-----------+-----------+\n",
       "|    date|delay|distance|origin|destination|nova coluna|\n",
       "+--------+-----+--------+------+-----------+-----------+\n",
       "|01011245|    6|     602|   ABE|        ATL|        8.0|\n",
       "|01020600|   -8|     369|   ABE|        DTW|       -6.0|\n",
       "|01021245|   -2|     602|   ABE|        ATL|        0.0|\n",
       "|01020605|   -4|     602|   ABE|        ATL|       -2.0|\n",
       "|01031245|   -4|     602|   ABE|        ATL|       -2.0|\n",
       "|01030605|    0|     602|   ABE|        ATL|        2.0|\n",
       "|01041243|   10|     602|   ABE|        ATL|       12.0|\n",
       "|01040605|   28|     602|   ABE|        ATL|       30.0|\n",
       "|01051245|   88|     602|   ABE|        ATL|       90.0|\n",
       "|01050605|    9|     602|   ABE|        ATL|       11.0|\n",
       "|01061215|   -6|     602|   ABE|        ATL|       -4.0|\n",
       "|01061725|   69|     602|   ABE|        ATL|       71.0|\n",
       "|01061230|    0|     369|   ABE|        DTW|        2.0|\n",
       "|01060625|   -3|     602|   ABE|        ATL|       -1.0|\n",
       "|01070600|    0|     369|   ABE|        DTW|        2.0|\n",
       "|01071725|    0|     602|   ABE|        ATL|        2.0|\n",
       "|01071230|    0|     369|   ABE|        DTW|        2.0|\n",
       "|01070625|    0|     602|   ABE|        ATL|        2.0|\n",
       "|01071219|    0|     569|   ABE|        ORD|        2.0|\n",
       "|01080600|    0|     369|   ABE|        DTW|        2.0|\n",
       "+--------+-----+--------+------+-----------+-----------+\n",
       "only showing top 20 rows\n",
       "\n"
      ]
     },
     "metadata": {
      "application/vnd.databricks.v1+output": {
       "addedWidgets": {},
       "arguments": {},
       "data": "+--------+-----+--------+------+-----------+-----------+\n|    date|delay|distance|origin|destination|nova coluna|\n+--------+-----+--------+------+-----------+-----------+\n|01011245|    6|     602|   ABE|        ATL|        8.0|\n|01020600|   -8|     369|   ABE|        DTW|       -6.0|\n|01021245|   -2|     602|   ABE|        ATL|        0.0|\n|01020605|   -4|     602|   ABE|        ATL|       -2.0|\n|01031245|   -4|     602|   ABE|        ATL|       -2.0|\n|01030605|    0|     602|   ABE|        ATL|        2.0|\n|01041243|   10|     602|   ABE|        ATL|       12.0|\n|01040605|   28|     602|   ABE|        ATL|       30.0|\n|01051245|   88|     602|   ABE|        ATL|       90.0|\n|01050605|    9|     602|   ABE|        ATL|       11.0|\n|01061215|   -6|     602|   ABE|        ATL|       -4.0|\n|01061725|   69|     602|   ABE|        ATL|       71.0|\n|01061230|    0|     369|   ABE|        DTW|        2.0|\n|01060625|   -3|     602|   ABE|        ATL|       -1.0|\n|01070600|    0|     369|   ABE|        DTW|        2.0|\n|01071725|    0|     602|   ABE|        ATL|        2.0|\n|01071230|    0|     369|   ABE|        DTW|        2.0|\n|01070625|    0|     602|   ABE|        ATL|        2.0|\n|01071219|    0|     569|   ABE|        ORD|        2.0|\n|01080600|    0|     369|   ABE|        DTW|        2.0|\n+--------+-----+--------+------+-----------+-----------+\nonly showing top 20 rows\n\n",
       "datasetInfos": [],
       "metadata": {},
       "removedWidgets": [],
       "type": "ansi"
      }
     },
     "output_type": "display_data"
    }
   ],
   "source": [
    "df.na.fill(value=0, subset=['delay']).show()"
   ]
  },
  {
   "cell_type": "code",
   "execution_count": 0,
   "metadata": {
    "application/vnd.databricks.v1+cell": {
     "inputWidgets": {},
     "nuid": "2899bc94-6e2a-4efe-b823-5bc3052214c7",
     "showTitle": false,
     "title": ""
    },
    "pycharm": {
     "name": "#%%\n"
    }
   },
   "outputs": [
    {
     "data": {
      "text/html": [
       "<style scoped>\n",
       "  .ansiout {\n",
       "    display: block;\n",
       "    unicode-bidi: embed;\n",
       "    white-space: pre-wrap;\n",
       "    word-wrap: break-word;\n",
       "    word-break: break-all;\n",
       "    font-family: \"Source Code Pro\", \"Menlo\", monospace;;\n",
       "    font-size: 13px;\n",
       "    color: #555;\n",
       "    margin-left: 4px;\n",
       "    line-height: 19px;\n",
       "  }\n",
       "</style>"
      ]
     },
     "metadata": {
      "application/vnd.databricks.v1+output": {
       "arguments": {},
       "data": "",
       "errorSummary": "",
       "errorTraceType": null,
       "metadata": {},
       "type": "ipynbError"
      }
     },
     "output_type": "display_data"
    }
   ],
   "source": [
    "df.na.fill(\"\").show()"
   ]
  }
 ],
 "metadata": {
  "application/vnd.databricks.v1+notebook": {
   "dashboards": [],
   "language": "python",
   "notebookMetadata": {
    "pythonIndentUnit": 4
   },
   "notebookName": "base_creation_spark",
   "notebookOrigID": 2489730762761751,
   "widgets": {}
  },
  "kernelspec": {
   "display_name": "Python 3 (ipykernel)",
   "language": "python",
   "name": "python3"
  },
  "language_info": {
   "codemirror_mode": {
    "name": "ipython",
    "version": 3
   },
   "file_extension": ".py",
   "mimetype": "text/x-python",
   "name": "python",
   "nbconvert_exporter": "python",
   "pygments_lexer": "ipython3",
   "version": "3.9.12"
  }
 },
 "nbformat": 4,
 "nbformat_minor": 1
}